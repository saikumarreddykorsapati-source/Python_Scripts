{
  "nbformat": 4,
  "nbformat_minor": 0,
  "metadata": {
    "colab": {
      "name": "Top 100 Codes",
      "provenance": [],
      "authorship_tag": "ABX9TyNazObRXcyJnZYE6lQFYD1Y",
      "include_colab_link": true
    },
    "kernelspec": {
      "name": "python3",
      "display_name": "Python 3"
    },
    "language_info": {
      "name": "python"
    }
  },
  "cells": [
    {
      "cell_type": "markdown",
      "metadata": {
        "id": "view-in-github",
        "colab_type": "text"
      },
      "source": [
        "<a href=\"https://colab.research.google.com/github/saikumarreddykorsapati-source/Python_Scripts/blob/main/Top_100_Codes.ipynb\" target=\"_parent\"><img src=\"https://colab.research.google.com/assets/colab-badge.svg\" alt=\"Open In Colab\"/></a>"
      ]
    },
    {
      "cell_type": "markdown",
      "source": [
        "**Ascii Table :** [Click here to redirect](https://prepinsta.com/ascii-table/)"
      ],
      "metadata": {
        "id": "NyEJVoJM33tx"
      }
    },
    {
      "cell_type": "markdown",
      "source": [
        "1) Positive or Negative number:"
      ],
      "metadata": {
        "id": "E0Jtqkwk3hDd"
      }
    },
    {
      "cell_type": "markdown",
      "source": [
        "Using Ternary Operator\n",
        "\n",
        "This operator is also known as conditional expression are operators that evaluate something based on a condition being true or false. It simply allows testing a condition in a single line.\n",
        "\n",
        "Syntax :\n",
        "\n",
        "```\n",
        "[on_true] if [expression] else [on_false] \n",
        "```\n",
        "\n",
        "\n"
      ],
      "metadata": {
        "id": "Z1fI0S-VKoqI"
      }
    },
    {
      "cell_type": "code",
      "execution_count": 1,
      "metadata": {
        "colab": {
          "base_uri": "https://localhost:8080/"
        },
        "id": "4Tb4QcIe3YYw",
        "outputId": "f2ed7b7c-722c-458a-84ed-dd6c5d044a52"
      },
      "outputs": [
        {
          "output_type": "stream",
          "name": "stdout",
          "text": [
            "Positive\n"
          ]
        }
      ],
      "source": [
        "n = 0\n",
        "# Use of ternary operator\n",
        "print(\"Positive\" if n >= 0 else \"Negative\")"
      ]
    },
    {
      "cell_type": "markdown",
      "source": [
        "2) Even or Odd number:"
      ],
      "metadata": {
        "id": "wR2GqnnV5lWd"
      }
    },
    {
      "cell_type": "code",
      "source": [
        "n = 20\n",
        "print(\"Even\" if n%2==0 else \"Odd\")"
      ],
      "metadata": {
        "colab": {
          "base_uri": "https://localhost:8080/"
        },
        "id": "i2MwffYI5koh",
        "outputId": "1874cddb-ced3-402f-854c-0aff91bf88b2"
      },
      "execution_count": 2,
      "outputs": [
        {
          "output_type": "stream",
          "name": "stdout",
          "text": [
            "Even\n"
          ]
        }
      ]
    },
    {
      "cell_type": "markdown",
      "source": [
        "3) Sum of First N Natural numbers: "
      ],
      "metadata": {
        "id": "REeXjBuL6DVl"
      }
    },
    {
      "cell_type": "code",
      "source": [
        "n=5\n",
        "print(int(n*(n+1)/2))"
      ],
      "metadata": {
        "colab": {
          "base_uri": "https://localhost:8080/"
        },
        "id": "xd-q3Jmg6KHd",
        "outputId": "f6698c61-fc88-45fd-94e0-3652dc50e8b1"
      },
      "execution_count": 3,
      "outputs": [
        {
          "output_type": "stream",
          "name": "stdout",
          "text": [
            "15\n"
          ]
        }
      ]
    },
    {
      "cell_type": "markdown",
      "source": [
        "4) Sum of N natural numbers:"
      ],
      "metadata": {
        "id": "DAv92axS7AAc"
      }
    },
    {
      "cell_type": "code",
      "source": [
        "def recurSum(n):\n",
        "  if n == 0:\n",
        "    return n\n",
        "  else:\n",
        "    return n + recurSum(n-1)\n",
        "\n",
        "num = 6\n",
        "recurSum(num)"
      ],
      "metadata": {
        "colab": {
          "base_uri": "https://localhost:8080/"
        },
        "id": "Z-T0g5yq7SS9",
        "outputId": "da2e3631-8063-41e3-c23b-968897117aa3"
      },
      "execution_count": 4,
      "outputs": [
        {
          "output_type": "execute_result",
          "data": {
            "text/plain": [
              "21"
            ]
          },
          "metadata": {},
          "execution_count": 4
        }
      ]
    },
    {
      "cell_type": "markdown",
      "source": [
        "5) Sum of numbers in a given range:"
      ],
      "metadata": {
        "id": "uORRZdaz8PV5"
      }
    },
    {
      "cell_type": "code",
      "source": [
        "def recurSum(sum, n1, n2):\n",
        "  if n1>n2:\n",
        "    return sum\n",
        "  return n1 + recurSum(sum, n1+1, n2)\n",
        "\n",
        "num1, num2, sum = 3, 6, 0\n",
        "recurSum(sum, num1, num2)"
      ],
      "metadata": {
        "colab": {
          "base_uri": "https://localhost:8080/"
        },
        "id": "K1htfrQJ8VAk",
        "outputId": "1e82dae4-7dbd-4de2-f0b0-3766836774b6"
      },
      "execution_count": 5,
      "outputs": [
        {
          "output_type": "execute_result",
          "data": {
            "text/plain": [
              "18"
            ]
          },
          "metadata": {},
          "execution_count": 5
        }
      ]
    },
    {
      "cell_type": "markdown",
      "source": [
        "6) Greatest of two numbers:"
      ],
      "metadata": {
        "id": "e2dgpO8S983G"
      }
    },
    {
      "cell_type": "code",
      "source": [
        "n1, n2 = 50, 60\n",
        "print(n1 if n1>=n2 else n2)"
      ],
      "metadata": {
        "colab": {
          "base_uri": "https://localhost:8080/"
        },
        "id": "3dVON157-GNo",
        "outputId": "406b9eb2-cd9a-4851-b0d7-c26e6c063ebc"
      },
      "execution_count": 6,
      "outputs": [
        {
          "output_type": "stream",
          "name": "stdout",
          "text": [
            "60\n"
          ]
        }
      ]
    },
    {
      "cell_type": "code",
      "source": [
        "n1, n2 = 50, 60\n",
        "print(max(n1,n2))"
      ],
      "metadata": {
        "colab": {
          "base_uri": "https://localhost:8080/"
        },
        "id": "ZeIew7HK-hbk",
        "outputId": "3efb264f-dd1f-49d0-dfd6-69ae060d84f7"
      },
      "execution_count": 7,
      "outputs": [
        {
          "output_type": "stream",
          "name": "stdout",
          "text": [
            "60\n"
          ]
        }
      ]
    },
    {
      "cell_type": "markdown",
      "source": [
        "7) Greatest of the Three numbers:"
      ],
      "metadata": {
        "id": "Wzu9V5T3-pP6"
      }
    },
    {
      "cell_type": "code",
      "source": [
        "n1, n2, n3 = 50, 30, 49\n",
        "print(max(n1,n2,n3))"
      ],
      "metadata": {
        "colab": {
          "base_uri": "https://localhost:8080/"
        },
        "id": "WvJIzZ8V-vqU",
        "outputId": "20db598e-b407-4d13-9893-94b97b426cbd"
      },
      "execution_count": 8,
      "outputs": [
        {
          "output_type": "stream",
          "name": "stdout",
          "text": [
            "50\n"
          ]
        }
      ]
    },
    {
      "cell_type": "code",
      "source": [
        "num1, num2, num3 = 10 , 30 , 20\n",
        "max = num1 if num1>num2 else num2\n",
        "max = num3 if num3>max else max\n",
        "print(max)"
      ],
      "metadata": {
        "colab": {
          "base_uri": "https://localhost:8080/"
        },
        "id": "i-5To5mN_GYd",
        "outputId": "dc73a021-7d9d-4bc1-f603-7a75ca5e8296"
      },
      "execution_count": 9,
      "outputs": [
        {
          "output_type": "stream",
          "name": "stdout",
          "text": [
            "30\n"
          ]
        }
      ]
    },
    {
      "cell_type": "code",
      "source": [
        "num1, num2, num3 = 10 , 30 , 20\n",
        "max = 0\n",
        "if num1 >= num2 and num1 >= num3:\n",
        "  print(num1)\n",
        "elif num2 >= num1 and num2 >= num3:\n",
        "  print(num2)\n",
        "else:\n",
        "  print(num3)"
      ],
      "metadata": {
        "id": "KiJNJCta_NJH",
        "outputId": "38243363-66a6-46ee-c35e-f479f2d2538b",
        "colab": {
          "base_uri": "https://localhost:8080/"
        }
      },
      "execution_count": 10,
      "outputs": [
        {
          "output_type": "stream",
          "name": "stdout",
          "text": [
            "30\n"
          ]
        }
      ]
    },
    {
      "cell_type": "markdown",
      "source": [
        "8) Factorial of a number:"
      ],
      "metadata": {
        "id": "3pq8UsBqJ1vR"
      }
    },
    {
      "cell_type": "code",
      "source": [
        "import math as m\n",
        "\n",
        "print(m.factorial(5))"
      ],
      "metadata": {
        "colab": {
          "base_uri": "https://localhost:8080/"
        },
        "id": "-vYOdiwhK-ZH",
        "outputId": "39711ac4-0176-4b04-de95-a32c838e8f1f"
      },
      "execution_count": 11,
      "outputs": [
        {
          "output_type": "stream",
          "name": "stdout",
          "text": [
            "120\n"
          ]
        }
      ]
    },
    {
      "cell_type": "code",
      "source": [
        "def fact(n):\n",
        "  return 1 if (n==1 or n==0) else n*(fact(n-1))\n",
        "\n",
        "fact(5)"
      ],
      "metadata": {
        "colab": {
          "base_uri": "https://localhost:8080/"
        },
        "id": "tngrU-evMXW4",
        "outputId": "7234af84-efad-40a2-a01f-e80d6599704d"
      },
      "execution_count": 12,
      "outputs": [
        {
          "output_type": "execute_result",
          "data": {
            "text/plain": [
              "120"
            ]
          },
          "metadata": {},
          "execution_count": 12
        }
      ]
    },
    {
      "cell_type": "code",
      "source": [
        "def facto(n):\n",
        "  if n <0:\n",
        "    return n\n",
        "  elif n == 0 or n == 1:\n",
        "    return 1\n",
        "  else:\n",
        "    fact = 1\n",
        "    while (n>1):\n",
        "      fact = fact * n\n",
        "      n -= 1\n",
        "    return fact\n",
        "    \n",
        "facto(5)"
      ],
      "metadata": {
        "colab": {
          "base_uri": "https://localhost:8080/"
        },
        "id": "Jjy72cz2NCwE",
        "outputId": "1dbc14e1-e08b-48ab-86e2-88d99c67e009"
      },
      "execution_count": 13,
      "outputs": [
        {
          "output_type": "execute_result",
          "data": {
            "text/plain": [
              "120"
            ]
          },
          "metadata": {},
          "execution_count": 13
        }
      ]
    },
    {
      "cell_type": "markdown",
      "source": [
        "9) Simple Interest:"
      ],
      "metadata": {
        "id": "mrQemeRvOqJe"
      }
    },
    {
      "cell_type": "code",
      "source": [
        "def cal_SI(p,t,r):\n",
        "  print(\"Principal Amount is : {} \\n Time is : {} \\t Rate is : {} \\n\\nSimple Interest is : {}\".format(p,t,r,(p*t*r)/100) )\n",
        "\n",
        "cal_SI(8,6,8)"
      ],
      "metadata": {
        "id": "7E7HGwzoOpsn",
        "colab": {
          "base_uri": "https://localhost:8080/"
        },
        "outputId": "385c512f-7bd3-482b-9bf3-796bb44b51a9"
      },
      "execution_count": 14,
      "outputs": [
        {
          "output_type": "stream",
          "name": "stdout",
          "text": [
            "Principal Amount is : 8 \n",
            " Time is : 6 \t Rate is : 8 \n",
            "\n",
            "Simple Interest is : 3.84\n"
          ]
        }
      ]
    },
    {
      "cell_type": "markdown",
      "source": [
        "10) Compound Interest:"
      ],
      "metadata": {
        "id": "fpNKx51QdKw6"
      }
    },
    {
      "cell_type": "markdown",
      "source": [
        "\n",
        "```\n",
        "A = P(1 + R/100) t \n",
        "Compound Interest = A - P \n",
        "Where, \n",
        "A is amount \n",
        "P is the principal amount \n",
        "R is the rate and \n",
        "T is the time span\n",
        "```\n",
        "\n"
      ],
      "metadata": {
        "id": "QS0ooNgHe1TP"
      }
    },
    {
      "cell_type": "code",
      "source": [
        "def cal_CI(p,t,r):\n",
        "    \n",
        "    a = p*( pow( ( 1 + r / 100 ) , t ))\n",
        "    # or a=p*(1+(r/100))**t \n",
        "\n",
        "    ci = a - p \n",
        "    print(\"Principal Amount is : {} \\n Time is : {} \\t Rate is : {} \\n\\nCompound Interest is : {}\".format(p,t,r,ci) )\n",
        "cal_CI(1200,2,5.4)"
      ],
      "metadata": {
        "colab": {
          "base_uri": "https://localhost:8080/"
        },
        "id": "4m07whlNecLR",
        "outputId": "134aa7bf-5c98-4314-9dc1-a9a76bb54bc6"
      },
      "execution_count": 15,
      "outputs": [
        {
          "output_type": "stream",
          "name": "stdout",
          "text": [
            "Principal Amount is : 1200 \n",
            " Time is : 2 \t Rate is : 5.4 \n",
            "\n",
            "Compound Interest is : 133.0992000000001\n"
          ]
        }
      ]
    },
    {
      "cell_type": "markdown",
      "source": [
        "11) Armstrong Number:"
      ],
      "metadata": {
        "id": "2706K5z1g_42"
      }
    },
    {
      "cell_type": "markdown",
      "source": [
        "\n",
        "\n",
        "```\n",
        "Given a number x, determine whether the given number is Armstrong number or not. A positive integer of n digits is called an Armstrong number of order n (order is number of digits) if.\n",
        "\n",
        "abcd... = pow(a,n) + pow(b,n) + pow(c,n) + pow(d,n) + .... \n",
        "Example:\n",
        "\n",
        "Input : 153\n",
        "Output : Yes\n",
        "153 is an Armstrong number.\n",
        "1*1*1 + 5*5*5 + 3*3*3 = 153\n",
        "\n",
        "Input : 120\n",
        "Output : No\n",
        "120 is not a Armstrong number.\n",
        "1*1*1 + 2*2*2 + 0*0*0 = 9\n",
        "\n",
        "Input : 1253\n",
        "Output : No\n",
        "1253 is not a Armstrong Number\n",
        "1*1*1*1 + 2*2*2*2 + 5*5*5*5 + 3*3*3*3 = 723\n",
        "\n",
        "Input : 1634\n",
        "Output : Yes\n",
        "1*1*1*1 + 6*6*6*6 + 3*3*3*3 + 4*4*4*4 = 1634\n",
        "```\n",
        "\n"
      ],
      "metadata": {
        "id": "rg5mIzbhh3sz"
      }
    },
    {
      "cell_type": "code",
      "source": [
        "def power(x,y):\n",
        "  if y == 0:\n",
        "    return 1\n",
        "  elif y%2 == 0:\n",
        "    return power(x,y//2)*power(x,y//2)\n",
        "  else:\n",
        "    return x * power(x,y//2)*power(x,y//2)\n",
        "\n",
        "def order(x):\n",
        "  n  = 0\n",
        "  while (x!=0):\n",
        "    n+=1\n",
        "    x//=10\n",
        "  return n\n",
        "\n",
        "def isArmstrong(x):\n",
        "  n = order(x)\n",
        "  temp = x\n",
        "  sum = 0\n",
        "  while temp!=0 :\n",
        "    r = temp%10\n",
        "    sum = sum + power(r,n)\n",
        "    temp//=10\n",
        "  return (sum == x)\n",
        "\n",
        "isArmstrong(1634)"
      ],
      "metadata": {
        "colab": {
          "base_uri": "https://localhost:8080/"
        },
        "id": "x7a_szM7hE6k",
        "outputId": "6f4baca8-25ca-440f-e085-76f8d74ea6e9"
      },
      "execution_count": 16,
      "outputs": [
        {
          "output_type": "execute_result",
          "data": {
            "text/plain": [
              "True"
            ]
          },
          "metadata": {},
          "execution_count": 16
        }
      ]
    },
    {
      "cell_type": "markdown",
      "source": [
        "12) Area of a circle \n",
        "\n",
        "Area = pi * (r**2)\n",
        "where r is radius of circle "
      ],
      "metadata": {
        "id": "cSLIhwaplCLT"
      }
    },
    {
      "cell_type": "code",
      "source": [
        "def area_of_circle(r):\n",
        "  pi = 3.142\n",
        "  area = pi * (r**2)\n",
        "  return area\n",
        "\n",
        "print(\"area of circle is %.6f \" % area_of_circle(5)) "
      ],
      "metadata": {
        "colab": {
          "base_uri": "https://localhost:8080/"
        },
        "id": "jL_om_eHlv5b",
        "outputId": "30b341e1-f64a-48fb-f1cb-9fb0d7b4dcb8"
      },
      "execution_count": 17,
      "outputs": [
        {
          "output_type": "stream",
          "name": "stdout",
          "text": [
            "area of circle is 78.550000 \n"
          ]
        }
      ]
    },
    {
      "cell_type": "markdown",
      "source": [
        "13) print all Prime numbers in an Interval"
      ],
      "metadata": {
        "id": "xg41p24Dlwnr"
      }
    },
    {
      "cell_type": "code",
      "source": [
        "def prime(x, y):\n",
        "\tprime_list = []\n",
        "\tfor i in range(x, y):\n",
        "\t\tif i == 0 or i == 1:\n",
        "\t\t\tcontinue\n",
        "\t\telse:\n",
        "\t\t\tfor j in range(2, int(i/2)+1):\n",
        "\t\t\t\tif i % j == 0:\n",
        "\t\t\t\t\tbreak\n",
        "\t\t\telse:\n",
        "\t\t\t\tprime_list.append(i)\n",
        "\treturn prime_list\n",
        "\n",
        "lst = prime(2,7)\n",
        "\n",
        "if len(lst) == 0:\n",
        "  print(\"No Primes in given range\")\n",
        "else :\n",
        "   print(\"Primes in given range are : \",lst)\n"
      ],
      "metadata": {
        "colab": {
          "base_uri": "https://localhost:8080/"
        },
        "id": "eJaCSUj3lwSR",
        "outputId": "d5a5da6b-e076-43a1-a48d-11e0a52ea4be"
      },
      "execution_count": 20,
      "outputs": [
        {
          "output_type": "stream",
          "name": "stdout",
          "text": [
            "Primes in given range are :  [2, 3, 5]\n"
          ]
        }
      ]
    },
    {
      "cell_type": "markdown",
      "source": [
        "14) check whether a number is Prime or not"
      ],
      "metadata": {
        "id": "rGsI8HKzqHV8"
      }
    },
    {
      "cell_type": "code",
      "source": [
        "# Python program to check if\n",
        "# given number is prime or not\n",
        "\n",
        "num = 15\n",
        "\n",
        "# If given number is greater than 1\n",
        "if num > 1:\n",
        "\n",
        "\t# Iterate from 2 to n / 2\n",
        "\tfor i in range(2, int(num/2)+1):\n",
        "\n",
        "\t\t# If num is divisible by any number between\n",
        "\t\t# 2 and n / 2, it is not prime\n",
        "\t\tif (num % i) == 0:\n",
        "\t\t\tprint(num, \"is not a prime number\")\n",
        "\t\t\tbreak\n",
        "\telse:\n",
        "\t\tprint(num, \"is a prime number\")\n",
        "\n",
        "else:\n",
        "\tprint(num, \"is not a prime number\")\n"
      ],
      "metadata": {
        "colab": {
          "base_uri": "https://localhost:8080/"
        },
        "id": "6rKEwgU9qQNh",
        "outputId": "6b5c5d1d-9fc1-4e54-c738-153a4d07be3d"
      },
      "execution_count": 34,
      "outputs": [
        {
          "output_type": "stream",
          "name": "stdout",
          "text": [
            "15 is not a prime number\n"
          ]
        }
      ]
    },
    {
      "cell_type": "markdown",
      "source": [
        "15) n-th Fibonacci number"
      ],
      "metadata": {
        "id": "JsvO2-CAyRX7"
      }
    },
    {
      "cell_type": "code",
      "source": [
        "# Function for nth Fibonacci number\n",
        "\n",
        "def Fibonacci(n):\n",
        "\tif n<= 0:\n",
        "\t\tprint(\"Incorrect input\")\n",
        "\t# First Fibonacci number is 0\n",
        "\telif n == 1:\n",
        "\t\treturn 0\n",
        "\t# Second Fibonacci number is 1\n",
        "\telif n == 2:\n",
        "\t\treturn 1\n",
        "\telse:\n",
        "\t\treturn Fibonacci(n-1)+Fibonacci(n-2)\n",
        "\n",
        "# Driver Program\n",
        "\n",
        "print(Fibonacci(10))\n",
        "\n",
        "# This code is contributed by Saket Modi\n"
      ],
      "metadata": {
        "colab": {
          "base_uri": "https://localhost:8080/"
        },
        "id": "WVg6_axey7Dy",
        "outputId": "4c3b49b1-0358-4f53-9a7c-2dd2cd8a31aa"
      },
      "execution_count": 35,
      "outputs": [
        {
          "output_type": "stream",
          "name": "stdout",
          "text": [
            "34\n"
          ]
        }
      ]
    },
    {
      "cell_type": "markdown",
      "source": [
        "16) How to check if a given number is Fibonacci number?"
      ],
      "metadata": {
        "id": "nR262Ix-zVc_"
      }
    },
    {
      "cell_type": "code",
      "source": [
        "# python program to check if x is a perfect square\n",
        "import math\n",
        "\n",
        "# A utility function that returns true if x is perfect square\n",
        "def isPerfectSquare(x):\n",
        "\ts = int(math.sqrt(x))\n",
        "\treturn s*s == x\n",
        "\n",
        "# Returns true if n is a Fibonacci Number, else false\n",
        "def isFibonacci(n):\n",
        "\n",
        "\t# n is Fibonacci if one of 5*n*n + 4 or 5*n*n - 4 or both\n",
        "\t# is a perfect square\n",
        "\treturn isPerfectSquare(5*n*n + 4) or isPerfectSquare(5*n*n - 4)\n",
        "\t\n",
        "# A utility function to test above functions\n",
        "for i in range(1,11):\n",
        "\tif (isFibonacci(i) == True):\n",
        "\t\tprint (i,\"is a Fibonacci Number\")\n",
        "\telse:\n",
        "\t\tprint (i,\"is a not Fibonacci Number \")\n"
      ],
      "metadata": {
        "colab": {
          "base_uri": "https://localhost:8080/"
        },
        "id": "pNHbTo6q0Lpv",
        "outputId": "27133ade-33c2-40a0-84b0-1c91d3ccc536"
      },
      "execution_count": 36,
      "outputs": [
        {
          "output_type": "stream",
          "name": "stdout",
          "text": [
            "1 is a Fibonacci Number\n",
            "2 is a Fibonacci Number\n",
            "3 is a Fibonacci Number\n",
            "4 is a not Fibonacci Number \n",
            "5 is a Fibonacci Number\n",
            "6 is a not Fibonacci Number \n",
            "7 is a not Fibonacci Number \n",
            "8 is a Fibonacci Number\n",
            "9 is a not Fibonacci Number \n",
            "10 is a not Fibonacci Number \n"
          ]
        }
      ]
    },
    {
      "cell_type": "markdown",
      "source": [
        "17) How to check if a given number is Fibonacci number?"
      ],
      "metadata": {
        "id": "6VDJ4XO90VJV"
      }
    },
    {
      "cell_type": "code",
      "source": [
        "# python program to check if x is a perfect square\n",
        "import math\n",
        "\n",
        "# A utility function that returns true if x is perfect square\n",
        "def isPerfectSquare(x):\n",
        "\ts = int(math.sqrt(x))\n",
        "\treturn s*s == x\n",
        "\n",
        "# Returns true if n is a Fibonacci Number, else false\n",
        "def isFibonacci(n):\n",
        "\n",
        "\t# n is Fibonacci if one of 5*n*n + 4 or 5*n*n - 4 or both\n",
        "\t# is a perfect square\n",
        "\treturn isPerfectSquare(5*n*n + 4) or isPerfectSquare(5*n*n - 4)\n",
        "\t\n",
        "# A utility function to test above functions\n",
        "for i in range(1,11):\n",
        "\tif (isFibonacci(i) == True):\n",
        "\t\tprint (i,\"is a Fibonacci Number\")\n",
        "\telse:\n",
        "\t\tprint (i,\"is a not Fibonacci Number \")\n"
      ],
      "metadata": {
        "colab": {
          "base_uri": "https://localhost:8080/"
        },
        "id": "uHDYeO9o1zxU",
        "outputId": "91ec95a2-08af-4ab9-b9b5-4daeb9f85683"
      },
      "execution_count": 37,
      "outputs": [
        {
          "output_type": "stream",
          "name": "stdout",
          "text": [
            "1 is a Fibonacci Number\n",
            "2 is a Fibonacci Number\n",
            "3 is a Fibonacci Number\n",
            "4 is a not Fibonacci Number \n",
            "5 is a Fibonacci Number\n",
            "6 is a not Fibonacci Number \n",
            "7 is a not Fibonacci Number \n",
            "8 is a Fibonacci Number\n",
            "9 is a not Fibonacci Number \n",
            "10 is a not Fibonacci Number \n"
          ]
        }
      ]
    },
    {
      "cell_type": "markdown",
      "source": [
        "18) n\\’th multiple of a number in Fibonacci Series"
      ],
      "metadata": {
        "id": "kC9MCGhC2B6u"
      }
    },
    {
      "cell_type": "code",
      "source": [
        "# Python Program to find position of n\\'th multiple\n",
        "# of a number k in Fibonacci Series\n",
        "\n",
        "def findPosition(k, n):\n",
        "\tf1 = 0\n",
        "\tf2 = 1\n",
        "\ti =2;\n",
        "\twhile i!=0:\n",
        "\t\tf3 = f1 + f2;\n",
        "\t\tf1 = f2;\n",
        "\t\tf2 = f3;\n",
        "\n",
        "\t\tif f2%k == 0:\n",
        "\t\t\treturn n*i\n",
        "\n",
        "\t\ti+=1\n",
        "\t\t\n",
        "\treturn\n",
        "\n",
        "\n",
        "# Multiple no.\n",
        "n = 5;\n",
        "# Number of whose multiple we are finding\n",
        "k = 4;\n",
        "\n",
        "print(\"Position of n\\'th multiple of k in\"\n",
        "\t\t\t\t\"Fibonacci Series is\", findPosition(k,n));\n",
        "\n",
        "# Code contributed by Mohit Gupta_OMG\n"
      ],
      "metadata": {
        "colab": {
          "base_uri": "https://localhost:8080/"
        },
        "id": "IEciGNKF2XIE",
        "outputId": "5c735a64-16f7-458f-9fd1-17a149eb982d"
      },
      "execution_count": 38,
      "outputs": [
        {
          "output_type": "stream",
          "name": "stdout",
          "text": [
            "Position of n'th multiple of k inFibonacci Series is 30\n"
          ]
        }
      ]
    },
    {
      "cell_type": "markdown",
      "source": [
        "19)  print ASCII Value of a character"
      ],
      "metadata": {
        "id": "Jq-hEoZN2o72"
      }
    },
    {
      "cell_type": "code",
      "source": [
        "# Python program to print\n",
        "# ASCII Value of Character\n",
        "\n",
        "# In c we can assign different\n",
        "# characters of which we want ASCII value\n",
        "\n",
        "c = 'g'\n",
        "# print the ASCII value of assigned character in c\n",
        "print(\"The ASCII value of '\" + c + \"' is\", ord(c))\n"
      ],
      "metadata": {
        "colab": {
          "base_uri": "https://localhost:8080/"
        },
        "id": "FHY-E5KK3IcO",
        "outputId": "c535d582-26c1-4751-9d0f-3a6f3d9f96ba"
      },
      "execution_count": 39,
      "outputs": [
        {
          "output_type": "stream",
          "name": "stdout",
          "text": [
            "The ASCII value of 'g' is 103\n"
          ]
        }
      ]
    },
    {
      "cell_type": "markdown",
      "source": [
        "20) Sum of squares of first n natural numbers"
      ],
      "metadata": {
        "id": "ZQ126SaW3PzB"
      }
    },
    {
      "cell_type": "code",
      "source": [
        "n = 4\n",
        "sum = 0\n",
        "\n",
        "for i in range(1,n+1):\n",
        "  sum = sum+(i*i)\n",
        "print(sum)"
      ],
      "metadata": {
        "colab": {
          "base_uri": "https://localhost:8080/"
        },
        "id": "igObRY3Y5WPU",
        "outputId": "bfa62b3b-9716-429b-a986-ffd1f61927f8"
      },
      "execution_count": 41,
      "outputs": [
        {
          "output_type": "stream",
          "name": "stdout",
          "text": [
            "30\n"
          ]
        }
      ]
    },
    {
      "cell_type": "markdown",
      "source": [
        "21) cube sum of first n natural numbers"
      ],
      "metadata": {
        "id": "Ned31VUc5yl_"
      }
    },
    {
      "cell_type": "code",
      "source": [
        "n = 5\n",
        "sum = 0\n",
        "\n",
        "for i in range(1,n+1):\n",
        "  sum = sum+(i*i*i)\n",
        "print(sum)"
      ],
      "metadata": {
        "colab": {
          "base_uri": "https://localhost:8080/"
        },
        "id": "Ka5S4yka5z2a",
        "outputId": "fb629d5f-0ae9-46e4-f649-e3b73a62be40"
      },
      "execution_count": 42,
      "outputs": [
        {
          "output_type": "stream",
          "name": "stdout",
          "text": [
            "225\n"
          ]
        }
      ]
    }
  ]
}