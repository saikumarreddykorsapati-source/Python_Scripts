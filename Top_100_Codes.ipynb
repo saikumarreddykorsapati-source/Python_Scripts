{
  "nbformat": 4,
  "nbformat_minor": 0,
  "metadata": {
    "colab": {
      "name": "Top 100 Codes",
      "provenance": [],
      "collapsed_sections": [],
      "authorship_tag": "ABX9TyNKy0zl0sszKJib8rtQIMa9",
      "include_colab_link": true
    },
    "kernelspec": {
      "name": "python3",
      "display_name": "Python 3"
    },
    "language_info": {
      "name": "python"
    }
  },
  "cells": [
    {
      "cell_type": "markdown",
      "metadata": {
        "id": "view-in-github",
        "colab_type": "text"
      },
      "source": [
        "<a href=\"https://colab.research.google.com/github/saikumarreddykorsapati-source/Python_Scripts/blob/main/Top_100_Codes.ipynb\" target=\"_parent\"><img src=\"https://colab.research.google.com/assets/colab-badge.svg\" alt=\"Open In Colab\"/></a>"
      ]
    },
    {
      "cell_type": "markdown",
      "source": [
        "**Ascii Table :** [Click here to redirect](https://prepinsta.com/ascii-table/)"
      ],
      "metadata": {
        "id": "NyEJVoJM33tx"
      }
    },
    {
      "cell_type": "markdown",
      "source": [
        "1) Positive or Negative number:"
      ],
      "metadata": {
        "id": "E0Jtqkwk3hDd"
      }
    },
    {
      "cell_type": "markdown",
      "source": [
        "Using Ternary Operator\n",
        "\n",
        "This operator is also known as conditional expression are operators that evaluate something based on a condition being true or false. It simply allows testing a condition in a single line.\n",
        "\n",
        "Syntax :\n",
        "\n",
        "```\n",
        "[on_true] if [expression] else [on_false] \n",
        "```\n",
        "\n",
        "\n"
      ],
      "metadata": {
        "id": "Z1fI0S-VKoqI"
      }
    },
    {
      "cell_type": "code",
      "execution_count": null,
      "metadata": {
        "colab": {
          "base_uri": "https://localhost:8080/"
        },
        "id": "4Tb4QcIe3YYw",
        "outputId": "f2ed7b7c-722c-458a-84ed-dd6c5d044a52"
      },
      "outputs": [
        {
          "output_type": "stream",
          "name": "stdout",
          "text": [
            "Positive\n"
          ]
        }
      ],
      "source": [
        "n = 0\n",
        "# Use of ternary operator\n",
        "print(\"Positive\" if n >= 0 else \"Negative\")"
      ]
    },
    {
      "cell_type": "markdown",
      "source": [
        "2) Even or Odd number:"
      ],
      "metadata": {
        "id": "wR2GqnnV5lWd"
      }
    },
    {
      "cell_type": "code",
      "source": [
        "n = 20\n",
        "print(\"Even\" if n%2==0 else \"Odd\")"
      ],
      "metadata": {
        "colab": {
          "base_uri": "https://localhost:8080/"
        },
        "id": "i2MwffYI5koh",
        "outputId": "1874cddb-ced3-402f-854c-0aff91bf88b2"
      },
      "execution_count": null,
      "outputs": [
        {
          "output_type": "stream",
          "name": "stdout",
          "text": [
            "Even\n"
          ]
        }
      ]
    },
    {
      "cell_type": "markdown",
      "source": [
        "3) Sum of First N Natural numbers: "
      ],
      "metadata": {
        "id": "REeXjBuL6DVl"
      }
    },
    {
      "cell_type": "code",
      "source": [
        "n=5\n",
        "print(int(n*((n+1)/2)))"
      ],
      "metadata": {
        "colab": {
          "base_uri": "https://localhost:8080/"
        },
        "id": "xd-q3Jmg6KHd",
        "outputId": "fa7d063f-4c5e-4e33-b720-707c17d40265"
      },
      "execution_count": null,
      "outputs": [
        {
          "output_type": "stream",
          "name": "stdout",
          "text": [
            "15\n"
          ]
        }
      ]
    },
    {
      "cell_type": "markdown",
      "source": [
        "4) Sum of N natural numbers:"
      ],
      "metadata": {
        "id": "DAv92axS7AAc"
      }
    },
    {
      "cell_type": "code",
      "source": [
        "def recurSum(n):\n",
        "  if n == 0:\n",
        "    return n\n",
        "  else:\n",
        "    return n + recurSum(n-1)\n",
        "\n",
        "num = 5\n",
        "recurSum(num)"
      ],
      "metadata": {
        "colab": {
          "base_uri": "https://localhost:8080/"
        },
        "id": "Z-T0g5yq7SS9",
        "outputId": "74e35e12-9114-4caf-c212-7e25e1a472e7"
      },
      "execution_count": null,
      "outputs": [
        {
          "output_type": "execute_result",
          "data": {
            "text/plain": [
              "15"
            ]
          },
          "metadata": {},
          "execution_count": 3
        }
      ]
    },
    {
      "cell_type": "markdown",
      "source": [
        "5) Sum of numbers in a given range:"
      ],
      "metadata": {
        "id": "uORRZdaz8PV5"
      }
    },
    {
      "cell_type": "code",
      "source": [
        "def recurSum(n1, n2):\n",
        "  if n1>n2:\n",
        "    return 0\n",
        "  return n1 + recurSum(n1+1, n2)\n",
        "\n",
        "num1, num2 = 1, 5\n",
        "recurSum(num1, num2)"
      ],
      "metadata": {
        "colab": {
          "base_uri": "https://localhost:8080/"
        },
        "id": "K1htfrQJ8VAk",
        "outputId": "7bd8a02b-44e5-4ca8-ae20-82685404d693"
      },
      "execution_count": null,
      "outputs": [
        {
          "output_type": "execute_result",
          "data": {
            "text/plain": [
              "15"
            ]
          },
          "metadata": {},
          "execution_count": 8
        }
      ]
    },
    {
      "cell_type": "markdown",
      "source": [
        "6) Greatest of two numbers:"
      ],
      "metadata": {
        "id": "e2dgpO8S983G"
      }
    },
    {
      "cell_type": "code",
      "source": [
        "n1, n2 = 50, 60\n",
        "print(n1 if n1>=n2 else n2)"
      ],
      "metadata": {
        "colab": {
          "base_uri": "https://localhost:8080/"
        },
        "id": "3dVON157-GNo",
        "outputId": "406b9eb2-cd9a-4851-b0d7-c26e6c063ebc"
      },
      "execution_count": null,
      "outputs": [
        {
          "output_type": "stream",
          "name": "stdout",
          "text": [
            "60\n"
          ]
        }
      ]
    },
    {
      "cell_type": "code",
      "source": [
        "n1, n2 = 50, 60\n",
        "print(max(n1,n2))"
      ],
      "metadata": {
        "colab": {
          "base_uri": "https://localhost:8080/"
        },
        "id": "ZeIew7HK-hbk",
        "outputId": "3efb264f-dd1f-49d0-dfd6-69ae060d84f7"
      },
      "execution_count": null,
      "outputs": [
        {
          "output_type": "stream",
          "name": "stdout",
          "text": [
            "60\n"
          ]
        }
      ]
    },
    {
      "cell_type": "markdown",
      "source": [
        "7) Greatest of the Three numbers:"
      ],
      "metadata": {
        "id": "Wzu9V5T3-pP6"
      }
    },
    {
      "cell_type": "code",
      "source": [
        "n1, n2, n3 = 50, 30, 49\n",
        "print(max(n1,n2,n3))"
      ],
      "metadata": {
        "colab": {
          "base_uri": "https://localhost:8080/"
        },
        "id": "WvJIzZ8V-vqU",
        "outputId": "38b587ec-2128-427b-b6a0-032ea61191b2"
      },
      "execution_count": null,
      "outputs": [
        {
          "output_type": "stream",
          "name": "stdout",
          "text": [
            "60\n"
          ]
        }
      ]
    },
    {
      "cell_type": "code",
      "source": [
        "num1, num2, num3 = 10 , 30 , 20\n",
        "max = num1 if num1>num2 else num2\n",
        "max = num3 if num3>max else max\n",
        "print(max)"
      ],
      "metadata": {
        "colab": {
          "base_uri": "https://localhost:8080/"
        },
        "id": "i-5To5mN_GYd",
        "outputId": "dc73a021-7d9d-4bc1-f603-7a75ca5e8296"
      },
      "execution_count": null,
      "outputs": [
        {
          "output_type": "stream",
          "name": "stdout",
          "text": [
            "30\n"
          ]
        }
      ]
    },
    {
      "cell_type": "code",
      "source": [
        "num1, num2, num3 = 10 , 30 , 20\n",
        "max = 0\n",
        "if num1 >= num2 and num1 >= num3:\n",
        "  print(num1)\n",
        "elif num2 >= num1 and num2 >= num3:\n",
        "  print(num2)\n",
        "else:\n",
        "  print(num3)"
      ],
      "metadata": {
        "id": "KiJNJCta_NJH",
        "outputId": "38243363-66a6-46ee-c35e-f479f2d2538b",
        "colab": {
          "base_uri": "https://localhost:8080/"
        }
      },
      "execution_count": null,
      "outputs": [
        {
          "output_type": "stream",
          "name": "stdout",
          "text": [
            "30\n"
          ]
        }
      ]
    },
    {
      "cell_type": "markdown",
      "source": [
        "8) Factorial of a number:"
      ],
      "metadata": {
        "id": "3pq8UsBqJ1vR"
      }
    },
    {
      "cell_type": "code",
      "source": [
        "import math as m\n",
        "\n",
        "print(m.factorial(5))"
      ],
      "metadata": {
        "colab": {
          "base_uri": "https://localhost:8080/"
        },
        "id": "-vYOdiwhK-ZH",
        "outputId": "39711ac4-0176-4b04-de95-a32c838e8f1f"
      },
      "execution_count": null,
      "outputs": [
        {
          "output_type": "stream",
          "name": "stdout",
          "text": [
            "120\n"
          ]
        }
      ]
    },
    {
      "cell_type": "code",
      "source": [
        "def fact(n):\n",
        "  return 1 if (n==1 or n==0) else n*(fact(n-1))\n",
        "\n",
        "print(fact(5))"
      ],
      "metadata": {
        "colab": {
          "base_uri": "https://localhost:8080/"
        },
        "id": "tngrU-evMXW4",
        "outputId": "f941eb00-2a3c-4733-e7c9-5892007aceb9"
      },
      "execution_count": null,
      "outputs": [
        {
          "output_type": "stream",
          "name": "stdout",
          "text": [
            "120\n"
          ]
        }
      ]
    },
    {
      "cell_type": "code",
      "source": [
        "def facto(n):\n",
        "  if n <0:\n",
        "    return n\n",
        "  elif n == 0 or n == 1:\n",
        "    return 1\n",
        "  else:\n",
        "    fact = 1\n",
        "    while (n>1):\n",
        "      fact = fact * n\n",
        "      n -= 1\n",
        "    return fact\n",
        "    \n",
        "facto(5)"
      ],
      "metadata": {
        "colab": {
          "base_uri": "https://localhost:8080/"
        },
        "id": "Jjy72cz2NCwE",
        "outputId": "1dbc14e1-e08b-48ab-86e2-88d99c67e009"
      },
      "execution_count": null,
      "outputs": [
        {
          "output_type": "execute_result",
          "data": {
            "text/plain": [
              "120"
            ]
          },
          "metadata": {},
          "execution_count": 13
        }
      ]
    },
    {
      "cell_type": "markdown",
      "source": [
        "9) Simple Interest:"
      ],
      "metadata": {
        "id": "mrQemeRvOqJe"
      }
    },
    {
      "cell_type": "code",
      "source": [
        "def cal_SI(p,t,r):\n",
        "  print(\"Principal Amount is : {} \\n Time is : {} \\t Rate is : {} \\n\\nSimple Interest is : {}\".format(p,t,r,(p*t*r)/100) )\n",
        "\n",
        "cal_SI(8,6,8)"
      ],
      "metadata": {
        "id": "7E7HGwzoOpsn",
        "colab": {
          "base_uri": "https://localhost:8080/"
        },
        "outputId": "385c512f-7bd3-482b-9bf3-796bb44b51a9"
      },
      "execution_count": null,
      "outputs": [
        {
          "output_type": "stream",
          "name": "stdout",
          "text": [
            "Principal Amount is : 8 \n",
            " Time is : 6 \t Rate is : 8 \n",
            "\n",
            "Simple Interest is : 3.84\n"
          ]
        }
      ]
    },
    {
      "cell_type": "markdown",
      "source": [
        "10) Compound Interest:"
      ],
      "metadata": {
        "id": "fpNKx51QdKw6"
      }
    },
    {
      "cell_type": "markdown",
      "source": [
        "![Admin Access Required to provide the detials.PNG](data:image/png;base64,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)\n",
        "```\n",
        "A = P(1 + R/100) t \n",
        "Compound Interest = A - P \n",
        "Where, \n",
        "A is amount \n",
        "P is the principal amount \n",
        "R is the rate and \n",
        "T is the time span\n",
        "```\n",
        "\n"
      ],
      "metadata": {
        "id": "QS0ooNgHe1TP"
      }
    },
    {
      "cell_type": "code",
      "source": [
        "def cal_CI(p,t,r):\n",
        "    \n",
        "    a = p*( pow( ( 1 + r / 100 ) , t ))\n",
        "    # or a=p*(1+(r/100))**t \n",
        "\n",
        "    ci = a - p \n",
        "    print(\"Principal Amount is : {} \\n Time is : {} \\t Rate is : {} \\n\\nCompound Interest is : {}\".format(p,t,r,ci) )\n",
        "cal_CI(1200,2,5.4)"
      ],
      "metadata": {
        "colab": {
          "base_uri": "https://localhost:8080/"
        },
        "id": "4m07whlNecLR",
        "outputId": "134aa7bf-5c98-4314-9dc1-a9a76bb54bc6"
      },
      "execution_count": null,
      "outputs": [
        {
          "output_type": "stream",
          "name": "stdout",
          "text": [
            "Principal Amount is : 1200 \n",
            " Time is : 2 \t Rate is : 5.4 \n",
            "\n",
            "Compound Interest is : 133.0992000000001\n"
          ]
        }
      ]
    },
    {
      "cell_type": "markdown",
      "source": [
        "11) Armstrong Number:"
      ],
      "metadata": {
        "id": "2706K5z1g_42"
      }
    },
    {
      "cell_type": "markdown",
      "source": [
        "\n",
        "\n",
        "```\n",
        "Given a number x, determine whether the given number is Armstrong number or not. A positive integer of n digits is called an Armstrong number of order n (order is number of digits) if.\n",
        "\n",
        "abcd... = pow(a,n) + pow(b,n) + pow(c,n) + pow(d,n) + .... \n",
        "Example:\n",
        "\n",
        "Input : 153\n",
        "Output : Yes\n",
        "153 is an Armstrong number.\n",
        "1*1*1 + 5*5*5 + 3*3*3 = 153\n",
        "\n",
        "Input : 120\n",
        "Output : No\n",
        "120 is not a Armstrong number.\n",
        "1*1*1 + 2*2*2 + 0*0*0 = 9\n",
        "\n",
        "Input : 1253\n",
        "Output : No\n",
        "1253 is not a Armstrong Number\n",
        "1*1*1*1 + 2*2*2*2 + 5*5*5*5 + 3*3*3*3 = 723\n",
        "\n",
        "Input : 1634\n",
        "Output : Yes\n",
        "1*1*1*1 + 6*6*6*6 + 3*3*3*3 + 4*4*4*4 = 1634\n",
        "```\n",
        "\n"
      ],
      "metadata": {
        "id": "rg5mIzbhh3sz"
      }
    },
    {
      "cell_type": "code",
      "source": [
        "# Python program to check if the number is an Armstrong number or not\n",
        "\n",
        "# take input from the user\n",
        "num = int(input(\"Enter a number: \"))\n",
        "\n",
        "# initialize sum\n",
        "sum = 0\n",
        "power = len(str(num))\n",
        "# find the sum of the cube of each digit\n",
        "temp = num\n",
        "while temp > 0:\n",
        "   digit = temp % 10\n",
        "   sum += digit ** int(power)\n",
        "   temp //= 10\n",
        "\n",
        "# display the result\n",
        "if num == sum:\n",
        "   print(num,\"is an Armstrong number\")\n",
        "else:\n",
        "   print(num,\"is not an Armstrong number\")\n",
        "\n",
        "#1634"
      ],
      "metadata": {
        "colab": {
          "base_uri": "https://localhost:8080/"
        },
        "id": "e9yS-y5ZUlyY",
        "outputId": "1202855b-c3eb-45ce-ce45-db72ba6c1cfc"
      },
      "execution_count": null,
      "outputs": [
        {
          "output_type": "stream",
          "name": "stdout",
          "text": [
            "Enter a number: 1634\n",
            "1634 is an Armstrong number\n"
          ]
        }
      ]
    },
    {
      "cell_type": "code",
      "source": [
        "def power(x,y):\n",
        "  if y == 0:\n",
        "    return 1\n",
        "  elif y%2 == 0:\n",
        "    return power(x,y//2)*power(x,y//2)\n",
        "  else:\n",
        "    return x * power(x,y//2)*power(x,y//2)\n",
        "\n",
        "def order(x):\n",
        "  n  = 0\n",
        "  while (x!=0):\n",
        "    n+=1\n",
        "    x//=10\n",
        "  return n\n",
        "\n",
        "def isArmstrong(x):\n",
        "  n = order(x)\n",
        "  temp = x\n",
        "  sum = 0\n",
        "  while temp!=0 :\n",
        "    r = temp%10\n",
        "    sum = sum + power(r,n)\n",
        "    temp//=10\n",
        "  return (sum == x)\n",
        "\n",
        "isArmstrong(663)"
      ],
      "metadata": {
        "colab": {
          "base_uri": "https://localhost:8080/"
        },
        "id": "x7a_szM7hE6k",
        "outputId": "0efa1a9d-f98d-4a96-ac16-7e7cc5c3bb9f"
      },
      "execution_count": null,
      "outputs": [
        {
          "output_type": "execute_result",
          "data": {
            "text/plain": [
              "False"
            ]
          },
          "metadata": {},
          "execution_count": 20
        }
      ]
    },
    {
      "cell_type": "markdown",
      "source": [
        "12) Area of a circle \n",
        "\n",
        "Area = pi * (r**2)\n",
        "where r is radius of circle "
      ],
      "metadata": {
        "id": "cSLIhwaplCLT"
      }
    },
    {
      "cell_type": "code",
      "source": [
        "def area_of_circle(r):\n",
        "  pi = 3.142\n",
        "  area = pi * (r**2)\n",
        "  return area\n",
        "\n",
        "print(\"area of circle is %.6f \" % area_of_circle(5)) "
      ],
      "metadata": {
        "colab": {
          "base_uri": "https://localhost:8080/"
        },
        "id": "jL_om_eHlv5b",
        "outputId": "c6e28960-3afc-41d8-d4da-db29bab1426e"
      },
      "execution_count": null,
      "outputs": [
        {
          "output_type": "stream",
          "name": "stdout",
          "text": [
            "area of circle is 78.550000 \n"
          ]
        }
      ]
    },
    {
      "cell_type": "markdown",
      "source": [
        "13) print all Prime numbers in an Interval"
      ],
      "metadata": {
        "id": "xg41p24Dlwnr"
      }
    },
    {
      "cell_type": "code",
      "source": [
        "def prime(x, y):\n",
        "\tprime_list = []\n",
        "\tfor i in range(x, y):\n",
        "\t\tif i == 0 or i == 1:\n",
        "\t\t\tcontinue\n",
        "\t\telse:\n",
        "\t\t\tfor j in range(2, int(i/2)+1):\n",
        "\t\t\t\tif i % j == 0:\n",
        "\t\t\t\t\tbreak\n",
        "\t\t\telse:\n",
        "\t\t\t\tprime_list.append(i)\n",
        "\treturn prime_list\n",
        "\n",
        "lst = prime(2,7)\n",
        "\n",
        "if len(lst) == 0:\n",
        "  print(\"No Primes in given range\")\n",
        "else :\n",
        "   print(\"Primes in given range are : \",lst)\n"
      ],
      "metadata": {
        "colab": {
          "base_uri": "https://localhost:8080/"
        },
        "id": "eJaCSUj3lwSR",
        "outputId": "d5a5da6b-e076-43a1-a48d-11e0a52ea4be"
      },
      "execution_count": null,
      "outputs": [
        {
          "output_type": "stream",
          "name": "stdout",
          "text": [
            "Primes in given range are :  [2, 3, 5]\n"
          ]
        }
      ]
    },
    {
      "cell_type": "markdown",
      "source": [
        "14) check whether a number is Prime or not"
      ],
      "metadata": {
        "id": "rGsI8HKzqHV8"
      }
    },
    {
      "cell_type": "code",
      "source": [
        "# Python program to check if\n",
        "# given number is prime or not\n",
        "\n",
        "num = 15\n",
        "\n",
        "# If given number is greater than 1\n",
        "if num > 1:\n",
        "\n",
        "\t# Iterate from 2 to n / 2\n",
        "\tfor i in range(2, int(num/2)+1):\n",
        "\n",
        "\t\t# If num is divisible by any number between\n",
        "\t\t# 2 and n / 2, it is not prime\n",
        "\t\tif (num % i) == 0:\n",
        "\t\t\tprint(num, \"is not a prime number\")\n",
        "\t\t\tbreak\n",
        "\telse:\n",
        "\t\tprint(num, \"is a prime number\")\n",
        "\n",
        "else:\n",
        "\tprint(num, \"is not a prime number\")\n"
      ],
      "metadata": {
        "colab": {
          "base_uri": "https://localhost:8080/"
        },
        "id": "6rKEwgU9qQNh",
        "outputId": "6b5c5d1d-9fc1-4e54-c738-153a4d07be3d"
      },
      "execution_count": null,
      "outputs": [
        {
          "output_type": "stream",
          "name": "stdout",
          "text": [
            "15 is not a prime number\n"
          ]
        }
      ]
    },
    {
      "cell_type": "markdown",
      "source": [
        "15) n-th Fibonacci number"
      ],
      "metadata": {
        "id": "JsvO2-CAyRX7"
      }
    },
    {
      "cell_type": "code",
      "source": [
        "# Function for nth Fibonacci number\n",
        "\n",
        "def Fibonacci(n):\n",
        "\tif n<= 0:\n",
        "\t\tprint(\"Incorrect input\")\n",
        "\t# First Fibonacci number is 0\n",
        "\telif n == 1:\n",
        "\t\treturn 0\n",
        "\t# Second Fibonacci number is 1\n",
        "\telif n == 2:\n",
        "\t\treturn 1\n",
        "\telse:\n",
        "\t\treturn Fibonacci(n-1)+Fibonacci(n-2)\n",
        "\n",
        "# Driver Program\n",
        "\n",
        "print(Fibonacci(10))\n",
        "\n",
        "# This code is contributed by Saket Modi\n"
      ],
      "metadata": {
        "colab": {
          "base_uri": "https://localhost:8080/"
        },
        "id": "WVg6_axey7Dy",
        "outputId": "4c3b49b1-0358-4f53-9a7c-2dd2cd8a31aa"
      },
      "execution_count": null,
      "outputs": [
        {
          "output_type": "stream",
          "name": "stdout",
          "text": [
            "34\n"
          ]
        }
      ]
    },
    {
      "cell_type": "markdown",
      "source": [
        "16) How to check if a given number is Fibonacci number?"
      ],
      "metadata": {
        "id": "nR262Ix-zVc_"
      }
    },
    {
      "cell_type": "code",
      "source": [
        "def is_fib_number(num):\n",
        "    a = 0\n",
        "    b = 1\n",
        "    while b<num:\n",
        "        c = a+b\n",
        "        a = b\n",
        "        b = c\n",
        "    if b==num or a==num:\n",
        "        return True\n",
        "    if b > num:\n",
        "        return False\n",
        "\n",
        "num = 13\n",
        "if is_fib_number(num):\n",
        "    print(f\"{num} is a fibonacci number.\")\n",
        "else:\n",
        "    print(f\"{num} is not a fibonacci number.\")"
      ],
      "metadata": {
        "colab": {
          "base_uri": "https://localhost:8080/"
        },
        "id": "utvNoj8nZvbV",
        "outputId": "cd0aa267-78aa-43fd-fedf-d82ed8e1f5a6"
      },
      "execution_count": null,
      "outputs": [
        {
          "output_type": "stream",
          "name": "stdout",
          "text": [
            "13 is a fibonacci number.\n"
          ]
        }
      ]
    },
    {
      "cell_type": "code",
      "source": [
        "# python program to check if x is a perfect square\n",
        "import math\n",
        "\n",
        "# A utility function that returns true if x is perfect square\n",
        "def isPerfectSquare(x):\n",
        "\ts = int(math.sqrt(x))\n",
        "\treturn s*s == x\n",
        "\n",
        "# Returns true if n is a Fibonacci Number, else false\n",
        "def isFibonacci(n):\n",
        "\n",
        "\t# n is Fibonacci if one of 5*n*n + 4 or 5*n*n - 4 or both\n",
        "\t# is a perfect square\n",
        "\treturn isPerfectSquare(5*n*n + 4) or isPerfectSquare(5*n*n - 4)\n",
        "\t\n",
        "# A utility function to test above functions\n",
        "for i in range(1,11):\n",
        "\tif (isFibonacci(i) == True):\n",
        "\t\tprint (i,\"is a Fibonacci Number\")\n",
        "\telse:\n",
        "\t\tprint (i,\"is a not Fibonacci Number \")\n"
      ],
      "metadata": {
        "colab": {
          "base_uri": "https://localhost:8080/"
        },
        "id": "pNHbTo6q0Lpv",
        "outputId": "27133ade-33c2-40a0-84b0-1c91d3ccc536"
      },
      "execution_count": null,
      "outputs": [
        {
          "output_type": "stream",
          "name": "stdout",
          "text": [
            "1 is a Fibonacci Number\n",
            "2 is a Fibonacci Number\n",
            "3 is a Fibonacci Number\n",
            "4 is a not Fibonacci Number \n",
            "5 is a Fibonacci Number\n",
            "6 is a not Fibonacci Number \n",
            "7 is a not Fibonacci Number \n",
            "8 is a Fibonacci Number\n",
            "9 is a not Fibonacci Number \n",
            "10 is a not Fibonacci Number \n"
          ]
        }
      ]
    },
    {
      "cell_type": "markdown",
      "source": [
        "17) How to check if a given number is Fibonacci number?"
      ],
      "metadata": {
        "id": "6VDJ4XO90VJV"
      }
    },
    {
      "cell_type": "code",
      "source": [
        "# python program to check if x is a perfect square\n",
        "import math\n",
        "\n",
        "# A utility function that returns true if x is perfect square\n",
        "def isPerfectSquare(x):\n",
        "\ts = int(math.sqrt(x))\n",
        "\treturn s*s == x\n",
        "\n",
        "# Returns true if n is a Fibonacci Number, else false\n",
        "def isFibonacci(n):\n",
        "\n",
        "\t# n is Fibonacci if one of 5*n*n + 4 or 5*n*n - 4 or both\n",
        "\t# is a perfect square\n",
        "\treturn isPerfectSquare(5*n*n + 4) or isPerfectSquare(5*n*n - 4)\n",
        "\t\n",
        "# A utility function to test above functions\n",
        "for i in range(1,11):\n",
        "\tif (isFibonacci(i) == True):\n",
        "\t\tprint (i,\"is a Fibonacci Number\")\n",
        "\telse:\n",
        "\t\tprint (i,\"is a not Fibonacci Number \")\n"
      ],
      "metadata": {
        "colab": {
          "base_uri": "https://localhost:8080/"
        },
        "id": "uHDYeO9o1zxU",
        "outputId": "91ec95a2-08af-4ab9-b9b5-4daeb9f85683"
      },
      "execution_count": null,
      "outputs": [
        {
          "output_type": "stream",
          "name": "stdout",
          "text": [
            "1 is a Fibonacci Number\n",
            "2 is a Fibonacci Number\n",
            "3 is a Fibonacci Number\n",
            "4 is a not Fibonacci Number \n",
            "5 is a Fibonacci Number\n",
            "6 is a not Fibonacci Number \n",
            "7 is a not Fibonacci Number \n",
            "8 is a Fibonacci Number\n",
            "9 is a not Fibonacci Number \n",
            "10 is a not Fibonacci Number \n"
          ]
        }
      ]
    },
    {
      "cell_type": "markdown",
      "source": [
        "18) n\\’th multiple of a number in Fibonacci Series"
      ],
      "metadata": {
        "id": "kC9MCGhC2B6u"
      }
    },
    {
      "cell_type": "code",
      "source": [
        "# Python Program to find position of n\\'th multiple\n",
        "# of a number k in Fibonacci Series\n",
        "\n",
        "def findPosition(k, n):\n",
        "\tf1 = 0\n",
        "\tf2 = 1\n",
        "\ti =2;\n",
        "\twhile i!=0:\n",
        "\t\tf3 = f1 + f2;\n",
        "\t\tf1 = f2;\n",
        "\t\tf2 = f3;\n",
        "\n",
        "\t\tif f2%k == 0:\n",
        "\t\t\treturn n*i\n",
        "\n",
        "\t\ti+=1\n",
        "\t\t\n",
        "\treturn\n",
        "\n",
        "\n",
        "# Multiple no.\n",
        "n = 5;\n",
        "# Number of whose multiple we are finding\n",
        "k = 4;\n",
        "\n",
        "print(\"Position of n\\'th multiple of k in\"\n",
        "\t\t\t\t\"Fibonacci Series is\", findPosition(k,n));\n",
        "\n",
        "# Code contributed by Mohit Gupta_OMG\n"
      ],
      "metadata": {
        "colab": {
          "base_uri": "https://localhost:8080/"
        },
        "id": "IEciGNKF2XIE",
        "outputId": "5c735a64-16f7-458f-9fd1-17a149eb982d"
      },
      "execution_count": null,
      "outputs": [
        {
          "output_type": "stream",
          "name": "stdout",
          "text": [
            "Position of n'th multiple of k inFibonacci Series is 30\n"
          ]
        }
      ]
    },
    {
      "cell_type": "markdown",
      "source": [
        "19)  print ASCII Value of a character"
      ],
      "metadata": {
        "id": "Jq-hEoZN2o72"
      }
    },
    {
      "cell_type": "code",
      "source": [
        "# Python program to print\n",
        "# ASCII Value of Character\n",
        "\n",
        "# In c we can assign different\n",
        "# characters of which we want ASCII value\n",
        "\n",
        "c = 'g'\n",
        "# print the ASCII value of assigned character in c\n",
        "print(\"The ASCII value of '\" + c + \"' is\", ord(c))\n"
      ],
      "metadata": {
        "colab": {
          "base_uri": "https://localhost:8080/"
        },
        "id": "FHY-E5KK3IcO",
        "outputId": "75047a30-b4de-43a2-ffad-51d6329854e2"
      },
      "execution_count": null,
      "outputs": [
        {
          "output_type": "stream",
          "name": "stdout",
          "text": [
            "The ASCII value of 'g' is 103\n"
          ]
        }
      ]
    },
    {
      "cell_type": "markdown",
      "source": [
        "20) Sum of squares of first n natural numbers"
      ],
      "metadata": {
        "id": "ZQ126SaW3PzB"
      }
    },
    {
      "cell_type": "code",
      "source": [
        "n = 4\n",
        "sum = 0\n",
        "\n",
        "for i in range(1,n+1):\n",
        "  sum = sum+(i*i)\n",
        "print(sum)"
      ],
      "metadata": {
        "colab": {
          "base_uri": "https://localhost:8080/"
        },
        "id": "igObRY3Y5WPU",
        "outputId": "bfa62b3b-9716-429b-a986-ffd1f61927f8"
      },
      "execution_count": null,
      "outputs": [
        {
          "output_type": "stream",
          "name": "stdout",
          "text": [
            "30\n"
          ]
        }
      ]
    },
    {
      "cell_type": "markdown",
      "source": [
        "21) cube sum of first n natural numbers"
      ],
      "metadata": {
        "id": "Ned31VUc5yl_"
      }
    },
    {
      "cell_type": "code",
      "source": [
        "n = 5\n",
        "sum = 0\n",
        "\n",
        "for i in range(1,n+1):\n",
        "  sum = sum+(i*i*i)\n",
        "print(sum)"
      ],
      "metadata": {
        "colab": {
          "base_uri": "https://localhost:8080/"
        },
        "id": "Ka5S4yka5z2a",
        "outputId": "fb629d5f-0ae9-46e4-f649-e3b73a62be40"
      },
      "execution_count": null,
      "outputs": [
        {
          "output_type": "stream",
          "name": "stdout",
          "text": [
            "225\n"
          ]
        }
      ]
    },
    {
      "cell_type": "markdown",
      "source": [
        "\n",
        "\n",
        "---\n",
        "\n"
      ],
      "metadata": {
        "id": "LmRxFeLZ9mZW"
      }
    },
    {
      "cell_type": "markdown",
      "source": [
        "**Array Programs**"
      ],
      "metadata": {
        "id": "zTm4BGJUbUcT"
      }
    },
    {
      "cell_type": "markdown",
      "source": [
        "\n",
        "\n",
        "---\n",
        "\n"
      ],
      "metadata": {
        "id": "Tb4nESEpbb63"
      }
    },
    {
      "cell_type": "markdown",
      "source": [
        "22) find sum of array and largest element array"
      ],
      "metadata": {
        "id": "ke_29kMWbc3e"
      }
    },
    {
      "cell_type": "code",
      "source": [
        "arr = [12, 3, 4, 15]\n",
        "sum = 0\n",
        "for i in arr:\n",
        "  sum+=i\n",
        "print(sum)\n",
        "print(max(arr))\n"
      ],
      "metadata": {
        "colab": {
          "base_uri": "https://localhost:8080/"
        },
        "id": "3YB79tJPbeS2",
        "outputId": "19e14c0a-fc4e-4c97-918e-c7c3a6a2a18a"
      },
      "execution_count": null,
      "outputs": [
        {
          "output_type": "stream",
          "name": "stdout",
          "text": [
            "34\n",
            "15\n"
          ]
        },
        {
          "output_type": "execute_result",
          "data": {
            "text/plain": [
              "[]"
            ]
          },
          "metadata": {},
          "execution_count": 59
        }
      ]
    },
    {
      "cell_type": "code",
      "source": [
        "# Python3 program to find maximum\n",
        "# in arr[] of size n\n",
        "\n",
        "# python function to find maximum\n",
        "# in arr[] of size n\n",
        "def largest(arr,n):\n",
        "\n",
        "\t# Initialize maximum element\n",
        "\tmax = arr[0]\n",
        "\n",
        "\t# Traverse array elements from second\n",
        "\t# and compare every element with\n",
        "\t# current max\n",
        "\tfor i in range(1, n):\n",
        "\t\tif arr[i] > max:\n",
        "\t\t\tmax = arr[i]\n",
        "\treturn max\n",
        "\n",
        "# Driver Code\n",
        "arr = [10, 324, 45, 90, 9808]\n",
        "n = len(arr)\n",
        "Ans = largest(arr,n)\n",
        "print (\"Largest in given array is\",Ans)\n",
        "\n",
        "# This code is contributed by Smitha Dinesh Semwal\n"
      ],
      "metadata": {
        "id": "w8Yg0IrTwGON"
      },
      "execution_count": null,
      "outputs": []
    },
    {
      "cell_type": "markdown",
      "source": [
        "23) array rotation\n"
      ],
      "metadata": {
        "id": "OVN_YPY3cnRU"
      }
    },
    {
      "cell_type": "code",
      "source": [
        "def rotateArray(arr, n, d):\n",
        "  temp = []\n",
        "  for i in range(0,d):\n",
        "    temp.append(arr[i])\n",
        "  del arr[0:d]\n",
        "  \n",
        "  return temp, arr, arr+temp\n",
        "\n",
        "arr = [1, 2, 3, 4, 5, 6, 7]\n",
        "print(\"Array after left rotation is: \", end=' ')\n",
        "print(rotateArray(arr, len(arr), 3))"
      ],
      "metadata": {
        "colab": {
          "base_uri": "https://localhost:8080/"
        },
        "id": "C6_zRE8xxrPi",
        "outputId": "a4a0d037-c7c6-42ac-8770-f51b99366ed3"
      },
      "execution_count": null,
      "outputs": [
        {
          "output_type": "stream",
          "name": "stdout",
          "text": [
            "Array after left rotation is:  ([1, 2, 3], [4, 5, 6, 7], [4, 5, 6, 7, 1, 2, 3])\n"
          ]
        }
      ]
    },
    {
      "cell_type": "markdown",
      "source": [
        "24) Reversal algorithm for array rotation"
      ],
      "metadata": {
        "id": "n1g3kS2S1Nt_"
      }
    },
    {
      "cell_type": "code",
      "source": [
        "def rotateCompleteArray(arr, n):\n",
        "  temp = []\n",
        "  for i in range(n-1,-1,-1):\n",
        "    temp.append(arr[i])\n",
        "  return temp\n",
        "  \n",
        "  return temp, arr, arr+temp\n",
        "\n",
        "arr = [1, 2, 3, 4, 5, 6, 7,9]\n",
        "print(\"Array after complete rotation is: \", end=' ')\n",
        "print(rotateCompleteArray(arr, len(arr)))"
      ],
      "metadata": {
        "colab": {
          "base_uri": "https://localhost:8080/"
        },
        "id": "ZR6PcIfn1Sqw",
        "outputId": "a6df38f6-32c0-4a2d-ef6d-cb7fbea095d5"
      },
      "execution_count": null,
      "outputs": [
        {
          "output_type": "stream",
          "name": "stdout",
          "text": [
            "Array after complete rotation is:  [9, 7, 6, 5, 4, 3, 2, 1]\n"
          ]
        }
      ]
    },
    {
      "cell_type": "markdown",
      "source": [
        "25) Find remainder of array multiplication divided by n"
      ],
      "metadata": {
        "id": "Mq63YhbqFcMK"
      }
    },
    {
      "cell_type": "code",
      "source": [
        "def find_remainder(arr, n):\n",
        "  mul=1\n",
        "  for i in arr:\n",
        "    mul *= i\n",
        "  return mul%n\n",
        "\n",
        "\n",
        "arr = [100, 10, 5, 25, 35, 14]\n",
        "n = 11\n",
        "find_remainder(arr, n)"
      ],
      "metadata": {
        "colab": {
          "base_uri": "https://localhost:8080/"
        },
        "id": "ym-Bss5LFcrX",
        "outputId": "6ead7887-511a-47f5-fc7b-6ceedf7380c9"
      },
      "execution_count": null,
      "outputs": [
        {
          "output_type": "execute_result",
          "data": {
            "text/plain": [
              "9"
            ]
          },
          "metadata": {},
          "execution_count": 95
        }
      ]
    },
    {
      "cell_type": "markdown",
      "source": [
        "26) check if given array is Monotonic"
      ],
      "metadata": {
        "id": "xMWxV217HK8f"
      }
    },
    {
      "cell_type": "code",
      "source": [
        "def isMonotonic(A):\n",
        "  for i in range(len(A)-1):\n",
        "    return (all(A[i] <= A[i+1] for i in range(len(A)-1)) or all(A[i] >= A[i+1] for i in range(len(A)-1)))\n",
        "# Driver program\n",
        "A = [6, 5, 4, 4 , 3]\n",
        "  \n",
        "# Print required result\n",
        "print(isMonotonic(A))"
      ],
      "metadata": {
        "id": "EDw7N42nIk-z",
        "colab": {
          "base_uri": "https://localhost:8080/"
        },
        "outputId": "8a7293ab-dcd9-4270-92b8-75cb118a8e77"
      },
      "execution_count": null,
      "outputs": [
        {
          "output_type": "stream",
          "name": "stdout",
          "text": [
            "True\n"
          ]
        }
      ]
    },
    {
      "cell_type": "markdown",
      "source": [
        "\n",
        "\n",
        "---\n",
        "\n"
      ],
      "metadata": {
        "id": "5MNk9z6d-2q2"
      }
    },
    {
      "cell_type": "markdown",
      "source": [
        "List Problems"
      ],
      "metadata": {
        "id": "XcegFJU7-4iU"
      }
    },
    {
      "cell_type": "markdown",
      "source": [
        "\n",
        "\n",
        "---\n",
        "\n"
      ],
      "metadata": {
        "id": "c_LndKY1-6BO"
      }
    },
    {
      "cell_type": "markdown",
      "source": [
        "27) interchange first and last elements in a list"
      ],
      "metadata": {
        "id": "tfSxYuZU-67g"
      }
    },
    {
      "cell_type": "code",
      "source": [
        "def swapList(newList):\n",
        "  first_and_last_element = []\n",
        "  middle_elements = []\n",
        "  all = []\n",
        "\n",
        "  for i in range(0,len(newList)):\n",
        "    if i in [0,len(newList)-1]:\n",
        "      first_and_last_element.append(newList[i])\n",
        "    else:\n",
        "      middle_elements.append(newList[i])\n",
        "  all.append(first_and_last_element[-1])\n",
        "  all.extend(middle_elements)\n",
        "  all.append(first_and_last_element[0])\n",
        "  return all\n",
        "\n",
        "newList = [12, 35, 9, 56, 24] \n",
        "print(swapList(newList))"
      ],
      "metadata": {
        "id": "RrWDJLF-_DLs",
        "colab": {
          "base_uri": "https://localhost:8080/"
        },
        "outputId": "c772dee1-5b7b-45a4-8ab4-84f667e18d82"
      },
      "execution_count": null,
      "outputs": [
        {
          "output_type": "stream",
          "name": "stdout",
          "text": [
            "[24, 35, 9, 56, 12]\n"
          ]
        }
      ]
    },
    {
      "cell_type": "code",
      "source": [
        "def swapList(list_val):\n",
        "  a, *b, c = list_val\n",
        "  list_val = [c, *b, a]\n",
        "  return list_val\n",
        "\n",
        "newList = [12, 35, 9, 56, 24] \n",
        "print(swapList(newList))"
      ],
      "metadata": {
        "colab": {
          "base_uri": "https://localhost:8080/"
        },
        "id": "lhs7UsehQiA9",
        "outputId": "6dc66c19-524c-4b5b-9f64-628a194d3962"
      },
      "execution_count": null,
      "outputs": [
        {
          "output_type": "stream",
          "name": "stdout",
          "text": [
            "[24, 35, 9, 56, 12]\n"
          ]
        }
      ]
    },
    {
      "cell_type": "markdown",
      "source": [
        "28) swap two elements in a list"
      ],
      "metadata": {
        "id": "pUO-ytYeRIfz"
      }
    },
    {
      "cell_type": "code",
      "source": [
        "# Python3 program to swap elements\n",
        "# at given positions\n",
        "# Swap function\n",
        "\n",
        "def swapPositions(list_1, pos1, pos2):\n",
        "\tlist_1[pos1], list_1[pos2] = list_1[pos2], list_1[pos1]\n",
        "\treturn list_1\n",
        "\n",
        "# Driver function\n",
        "List = [12, 35, 9, 56, 24] \n",
        "print(swapPositions(List, 0, len(List)-1) )\n"
      ],
      "metadata": {
        "colab": {
          "base_uri": "https://localhost:8080/"
        },
        "id": "ECVDVpd3Rj2-",
        "outputId": "a797b7fb-fb57-4c90-f318-73913ee73a97"
      },
      "execution_count": null,
      "outputs": [
        {
          "output_type": "stream",
          "name": "stdout",
          "text": [
            "[24, 35, 9, 56, 12]\n"
          ]
        }
      ]
    },
    {
      "cell_type": "markdown",
      "source": [
        "29) Check if element exists in list in Python"
      ],
      "metadata": {
        "id": "VDRZKJY-PhcI"
      }
    },
    {
      "cell_type": "code",
      "source": [
        "def el_exists(list_1, n):\n",
        "  if n in list_1:\n",
        "    return True\n",
        "  else:\n",
        "    return False\n",
        "List = [12, 35, 9, 56, 24] \n",
        "print(el_exists(List, 24) )"
      ],
      "metadata": {
        "colab": {
          "base_uri": "https://localhost:8080/"
        },
        "id": "uA12QbomPmIR",
        "outputId": "6dc96094-5433-4913-9479-80b5e498d189"
      },
      "execution_count": 3,
      "outputs": [
        {
          "output_type": "stream",
          "name": "stdout",
          "text": [
            "True\n"
          ]
        }
      ]
    },
    {
      "cell_type": "markdown",
      "source": [
        "30) Different ways to clear a list in Python"
      ],
      "metadata": {
        "id": "LzDhd4SNQCZa"
      }
    },
    {
      "cell_type": "code",
      "source": [
        "GEEK = [6, 0, 4, 1]\n",
        "print('GEEK before clear:', GEEK) \n",
        "GEEK.clear()\n",
        "print('GEEK after clear:', GEEK) \n",
        "# deleting list using reinitialization\n",
        "GEEK = []\n",
        "print('GEEK after reinitialization:', GEEK) \n",
        "# deleting list using *= 0\n",
        "GEEK *= 0\n",
        "print('GEEK after using *= 0', GEEK) \n",
        "# deleting list using del\n",
        "del GEEK[:]\n",
        "print('GEEK after  using del', GEEK) "
      ],
      "metadata": {
        "colab": {
          "base_uri": "https://localhost:8080/"
        },
        "id": "A9qML4dyQLY2",
        "outputId": "b192c7d7-be49-4204-c4ad-49e50387d23d"
      },
      "execution_count": 11,
      "outputs": [
        {
          "output_type": "stream",
          "name": "stdout",
          "text": [
            "GEEK before clear: [6, 0, 4, 1]\n",
            "GEEK after clear: []\n",
            "GEEK after reinitialization: []\n",
            "GEEK after using *= 0 []\n",
            "GEEK after  using del []\n"
          ]
        }
      ]
    },
    {
      "cell_type": "markdown",
      "source": [
        "31) Reversing a List"
      ],
      "metadata": {
        "id": "uTKwi6f1RV8J"
      }
    },
    {
      "cell_type": "code",
      "source": [
        "list_1 = [1,2,3,4,5]\n",
        "\n",
        "print([ele for ele in reversed(list_1)])\n",
        "print(*list_1 , sep=\"\\n\")\n",
        "\n",
        "print(list_1[::-1])\n",
        "list_1.reverse()\n",
        "print(list_1)\n",
        "\n",
        "\n"
      ],
      "metadata": {
        "colab": {
          "base_uri": "https://localhost:8080/"
        },
        "id": "odGcOyeORXeW",
        "outputId": "2b43ecf0-e023-4ac4-ef90-c82c9fa83991"
      },
      "execution_count": 41,
      "outputs": [
        {
          "output_type": "stream",
          "name": "stdout",
          "text": [
            "[5, 4, 3, 2, 1]\n",
            "1\n",
            "2\n",
            "3\n",
            "4\n",
            "5\n",
            "[5, 4, 3, 2, 1]\n",
            "[5, 4, 3, 2, 1]\n"
          ]
        }
      ]
    },
    {
      "cell_type": "markdown",
      "source": [
        "32) find sum of elements in list"
      ],
      "metadata": {
        "id": "sYef3s_bUdi_"
      }
    },
    {
      "cell_type": "code",
      "source": [
        "#recursion\n",
        "def recu(list_2, size):\n",
        "  if size == 0:\n",
        "    return 0\n",
        "  else :\n",
        "    return list_2[size-1]+recu(list_2, size-1)\n",
        "\n",
        "\n",
        "list_1 = [1,2,3,4,5]\n",
        "size = len(list_1)\n",
        "print(recu(list_1, size))\n",
        "\n",
        "#using sum inbuilt function\n",
        "print(sum(list_1))\n",
        "\n",
        "# another method\n",
        "ele = 0\n",
        "sum_var = 0\n",
        "while ele < len(list_1):\n",
        "  sum_var += list_1[ele]\n",
        "  ele+=1\n",
        "print(sum_var)\n",
        "\n",
        "\n",
        "\n"
      ],
      "metadata": {
        "colab": {
          "base_uri": "https://localhost:8080/"
        },
        "id": "Fx9Wpu8AUgDo",
        "outputId": "24ca8355-3b28-4f2c-943d-8170a5b8c1fb"
      },
      "execution_count": 5,
      "outputs": [
        {
          "output_type": "stream",
          "name": "stdout",
          "text": [
            "15\n",
            "15\n",
            "15\n"
          ]
        }
      ]
    },
    {
      "cell_type": "markdown",
      "source": [
        "33) Multiply all numbers in the list"
      ],
      "metadata": {
        "id": "Hvco3G4ZW1TO"
      }
    },
    {
      "cell_type": "code",
      "source": [
        "list_1 = [1,2,3,4,5]\n",
        "m = 1\n",
        "for i in list_1:\n",
        "  m*=i\n",
        "print(m)"
      ],
      "metadata": {
        "colab": {
          "base_uri": "https://localhost:8080/"
        },
        "id": "xoCDxQMMW4B2",
        "outputId": "ec076d5e-28ba-4bce-9aa3-3c0021ea12b6"
      },
      "execution_count": 8,
      "outputs": [
        {
          "output_type": "stream",
          "name": "stdout",
          "text": [
            "120\n"
          ]
        }
      ]
    },
    {
      "cell_type": "markdown",
      "source": [
        "34) find smallest and largest number in a list"
      ],
      "metadata": {
        "id": "350ZErbxXxt-"
      }
    },
    {
      "cell_type": "code",
      "source": [
        "list_1 = [1,2,3,4,5]\n",
        "print(\"in list {} the element {} is the smallest number\".format(list_1,min(list_1)))\n",
        "# using sort\n",
        "list_1.sort()\n",
        "print(list_1[0])\n",
        "\n",
        "\n",
        "print(\"Largest Element\",max(list_1))\n",
        "print(list_1[-1])"
      ],
      "metadata": {
        "colab": {
          "base_uri": "https://localhost:8080/"
        },
        "id": "IF0NFYISXzP8",
        "outputId": "186fbc2e-e7d2-4299-a8dc-62efc5d7941f"
      },
      "execution_count": 17,
      "outputs": [
        {
          "output_type": "stream",
          "name": "stdout",
          "text": [
            "in list [1, 2, 3, 4, 5] the element 1 is the smallest number\n",
            "1\n",
            "Largest Element 5\n",
            "5\n"
          ]
        }
      ]
    },
    {
      "cell_type": "markdown",
      "source": [
        "35) find second largest number in a list"
      ],
      "metadata": {
        "id": "aR_0ce4mYgwG"
      }
    },
    {
      "cell_type": "code",
      "source": [
        "list_1 = [1,2,3,4,5]\n",
        "\n",
        "list_1.sort()\n",
        "print(list_1[-2])\n",
        "\n",
        "#or\n",
        "\n",
        "list_1.remove(max(list_1))\n",
        "print(max(list_1))"
      ],
      "metadata": {
        "colab": {
          "base_uri": "https://localhost:8080/"
        },
        "id": "OcBnLe4xaUgN",
        "outputId": "ec7aa21e-c5f5-4897-9eb3-3cede031713a"
      },
      "execution_count": 20,
      "outputs": [
        {
          "output_type": "stream",
          "name": "stdout",
          "text": [
            "4\n",
            "4\n"
          ]
        }
      ]
    },
    {
      "cell_type": "markdown",
      "source": [
        "36) find N largest elements from a list\n",
        "\n",
        "[differnces between sort and sorted](https://www.programiz.com/python-programming/methods/built-in/sorted)"
      ],
      "metadata": {
        "id": "iFNJpDxqasZw"
      }
    },
    {
      "cell_type": "code",
      "source": [
        "list_1 = [1,2,3,4,5,67,8,9]\n",
        "\n",
        "n =2 \n",
        "\n",
        "list_1.sort(reverse=True)\n",
        "print(list_1[:2])"
      ],
      "metadata": {
        "colab": {
          "base_uri": "https://localhost:8080/"
        },
        "id": "Ob_oTWJoa5iE",
        "outputId": "55c82655-e5ed-4a0b-f422-e2f9972b4688"
      },
      "execution_count": 35,
      "outputs": [
        {
          "output_type": "stream",
          "name": "stdout",
          "text": [
            "[67, 9]\n"
          ]
        }
      ]
    },
    {
      "cell_type": "markdown",
      "source": [
        "37) "
      ],
      "metadata": {
        "id": "LB6DLWLCc_cM"
      }
    }
  ]
}