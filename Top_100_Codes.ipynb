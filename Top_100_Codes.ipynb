{
  "nbformat": 4,
  "nbformat_minor": 0,
  "metadata": {
    "colab": {
      "name": "Top 100 Codes",
      "provenance": [],
      "authorship_tag": "ABX9TyPbeZjHgccvHRnMFmRMKxnI",
      "include_colab_link": true
    },
    "kernelspec": {
      "name": "python3",
      "display_name": "Python 3"
    },
    "language_info": {
      "name": "python"
    }
  },
  "cells": [
    {
      "cell_type": "markdown",
      "metadata": {
        "id": "view-in-github",
        "colab_type": "text"
      },
      "source": [
        "<a href=\"https://colab.research.google.com/github/saikumarreddykorsapati-source/Python_Scripts/blob/main/Top_100_Codes.ipynb\" target=\"_parent\"><img src=\"https://colab.research.google.com/assets/colab-badge.svg\" alt=\"Open In Colab\"/></a>"
      ]
    },
    {
      "cell_type": "markdown",
      "source": [
        "**Ascii Table :** [Click here to redirect](https://prepinsta.com/ascii-table/)"
      ],
      "metadata": {
        "id": "NyEJVoJM33tx"
      }
    },
    {
      "cell_type": "markdown",
      "source": [
        "1) Positive or Negative number:"
      ],
      "metadata": {
        "id": "E0Jtqkwk3hDd"
      }
    },
    {
      "cell_type": "markdown",
      "source": [
        "Using Ternary Operator\n",
        "\n",
        "This operator is also known as conditional expression are operators that evaluate something based on a condition being true or false. It simply allows testing a condition in a single line.\n",
        "\n",
        "Syntax :\n",
        "\n",
        "```\n",
        "[on_true] if [expression] else [on_false] \n",
        "```\n",
        "\n",
        "\n"
      ],
      "metadata": {
        "id": "Z1fI0S-VKoqI"
      }
    },
    {
      "cell_type": "code",
      "execution_count": null,
      "metadata": {
        "colab": {
          "base_uri": "https://localhost:8080/"
        },
        "id": "4Tb4QcIe3YYw",
        "outputId": "736470e3-3d57-4881-989b-49e938127948"
      },
      "outputs": [
        {
          "output_type": "stream",
          "name": "stdout",
          "text": [
            "Positive\n"
          ]
        }
      ],
      "source": [
        "n = 0\n",
        "# Use of ternary operator\n",
        "print(\"Positive\" if n >= 0 else \"Negative\")"
      ]
    },
    {
      "cell_type": "markdown",
      "source": [
        "2) Even or Odd number:"
      ],
      "metadata": {
        "id": "wR2GqnnV5lWd"
      }
    },
    {
      "cell_type": "code",
      "source": [
        "n = 20\n",
        "print(\"Even\" if n%2==0 else \"Odd\")"
      ],
      "metadata": {
        "colab": {
          "base_uri": "https://localhost:8080/"
        },
        "id": "i2MwffYI5koh",
        "outputId": "500a3423-eacb-4976-f91a-4b741623747e"
      },
      "execution_count": null,
      "outputs": [
        {
          "output_type": "stream",
          "name": "stdout",
          "text": [
            "Even\n"
          ]
        }
      ]
    },
    {
      "cell_type": "markdown",
      "source": [
        "3) Sum of First N Natural numbers: "
      ],
      "metadata": {
        "id": "REeXjBuL6DVl"
      }
    },
    {
      "cell_type": "code",
      "source": [
        "n=5\n",
        "print(int(n*(n+1)/2))"
      ],
      "metadata": {
        "colab": {
          "base_uri": "https://localhost:8080/"
        },
        "id": "xd-q3Jmg6KHd",
        "outputId": "94e1fa9e-d034-4db6-d4ce-9751f8a14c94"
      },
      "execution_count": null,
      "outputs": [
        {
          "output_type": "stream",
          "name": "stdout",
          "text": [
            "15\n"
          ]
        }
      ]
    },
    {
      "cell_type": "markdown",
      "source": [
        "4) Sum of N natural numbers:"
      ],
      "metadata": {
        "id": "DAv92axS7AAc"
      }
    },
    {
      "cell_type": "code",
      "source": [
        "def recurSum(n):\n",
        "  if n == 0:\n",
        "    return n\n",
        "  else:\n",
        "    return n + recurSum(n-1)\n",
        "\n",
        "num = 6\n",
        "recurSum(num)"
      ],
      "metadata": {
        "colab": {
          "base_uri": "https://localhost:8080/"
        },
        "id": "Z-T0g5yq7SS9",
        "outputId": "e16f5aa0-9a1e-4c25-bd38-60f29ea2e81e"
      },
      "execution_count": null,
      "outputs": [
        {
          "output_type": "execute_result",
          "data": {
            "text/plain": [
              "21"
            ]
          },
          "metadata": {},
          "execution_count": 8
        }
      ]
    },
    {
      "cell_type": "markdown",
      "source": [
        "5) Sum of numbers in a given range:"
      ],
      "metadata": {
        "id": "uORRZdaz8PV5"
      }
    },
    {
      "cell_type": "code",
      "source": [
        "def recurSum(sum, n1, n2):\n",
        "  if n1>n2:\n",
        "    return sum\n",
        "  return n1 + recurSum(sum, n1+1, n2)\n",
        "\n",
        "num1, num2, sum = 3, 6, 0\n",
        "recurSum(sum, num1, num2)"
      ],
      "metadata": {
        "colab": {
          "base_uri": "https://localhost:8080/"
        },
        "id": "K1htfrQJ8VAk",
        "outputId": "11ced38d-9be9-4a20-fbe3-d30c40723a48"
      },
      "execution_count": null,
      "outputs": [
        {
          "output_type": "execute_result",
          "data": {
            "text/plain": [
              "18"
            ]
          },
          "metadata": {},
          "execution_count": 9
        }
      ]
    },
    {
      "cell_type": "markdown",
      "source": [
        "6) Greatest of two numbers:"
      ],
      "metadata": {
        "id": "e2dgpO8S983G"
      }
    },
    {
      "cell_type": "code",
      "source": [
        "n1, n2 = 50, 60\n",
        "print(n1 if n1>=n2 else n2)"
      ],
      "metadata": {
        "colab": {
          "base_uri": "https://localhost:8080/"
        },
        "id": "3dVON157-GNo",
        "outputId": "e12ea0a9-60c6-408a-b6b6-9388eebf8b22"
      },
      "execution_count": null,
      "outputs": [
        {
          "output_type": "stream",
          "name": "stdout",
          "text": [
            "60\n"
          ]
        }
      ]
    },
    {
      "cell_type": "code",
      "source": [
        "n1, n2 = 50, 60\n",
        "print(max(n1,n2))"
      ],
      "metadata": {
        "colab": {
          "base_uri": "https://localhost:8080/"
        },
        "id": "ZeIew7HK-hbk",
        "outputId": "5d994ece-d291-491e-b5cc-796ea2091471"
      },
      "execution_count": null,
      "outputs": [
        {
          "output_type": "stream",
          "name": "stdout",
          "text": [
            "60\n"
          ]
        }
      ]
    },
    {
      "cell_type": "markdown",
      "source": [
        "7) Greatest of the Three numbers:"
      ],
      "metadata": {
        "id": "Wzu9V5T3-pP6"
      }
    },
    {
      "cell_type": "code",
      "source": [
        "n1, n2, n3 = 50, 30, 49\n",
        "print(max(n1,n2,n3))"
      ],
      "metadata": {
        "colab": {
          "base_uri": "https://localhost:8080/"
        },
        "id": "WvJIzZ8V-vqU",
        "outputId": "f8e53476-e366-4d14-8c2d-a92753a6eec8"
      },
      "execution_count": null,
      "outputs": [
        {
          "output_type": "stream",
          "name": "stdout",
          "text": [
            "50\n"
          ]
        }
      ]
    },
    {
      "cell_type": "code",
      "source": [
        "num1, num2, num3 = 10 , 30 , 20\n",
        "max = num1 if num1>num2 else num2\n",
        "max = num3 if num3>max else max\n",
        "print(max)"
      ],
      "metadata": {
        "colab": {
          "base_uri": "https://localhost:8080/"
        },
        "id": "i-5To5mN_GYd",
        "outputId": "2be5cb29-2ec6-4773-ae18-ecf6a307be57"
      },
      "execution_count": null,
      "outputs": [
        {
          "output_type": "stream",
          "name": "stdout",
          "text": [
            "30\n"
          ]
        }
      ]
    },
    {
      "cell_type": "code",
      "source": [
        "num1, num2, num3 = 10 , 30 , 20\n",
        "max = 0\n",
        "if num1 >= num2 and num1 >= num3:\n",
        "  print(num1)\n",
        "elif num2 >= num1 and num2 >= num3:\n",
        "  print(num2)\n",
        "else:\n",
        "  print(num3)"
      ],
      "metadata": {
        "id": "KiJNJCta_NJH",
        "outputId": "6854eedd-a11c-4ada-deb7-38ee06fe2cc7",
        "colab": {
          "base_uri": "https://localhost:8080/"
        }
      },
      "execution_count": null,
      "outputs": [
        {
          "output_type": "stream",
          "name": "stdout",
          "text": [
            "30\n"
          ]
        }
      ]
    },
    {
      "cell_type": "markdown",
      "source": [
        "8) Factorial of a number:"
      ],
      "metadata": {
        "id": "3pq8UsBqJ1vR"
      }
    },
    {
      "cell_type": "code",
      "source": [
        "import math as m\n",
        "\n",
        "print(m.factorial(5))"
      ],
      "metadata": {
        "colab": {
          "base_uri": "https://localhost:8080/"
        },
        "id": "-vYOdiwhK-ZH",
        "outputId": "a2d2f67e-6b13-4dfa-9143-7f5ccc76ae52"
      },
      "execution_count": null,
      "outputs": [
        {
          "output_type": "stream",
          "name": "stdout",
          "text": [
            "120\n"
          ]
        }
      ]
    },
    {
      "cell_type": "code",
      "source": [
        "def fact(n):\n",
        "  return 1 if (n==1 or n==0) else n*(fact(n-1))\n",
        "\n",
        "fact(5)"
      ],
      "metadata": {
        "colab": {
          "base_uri": "https://localhost:8080/"
        },
        "id": "tngrU-evMXW4",
        "outputId": "25e263ed-5baf-4c36-c6e6-8c505e5a786d"
      },
      "execution_count": null,
      "outputs": [
        {
          "output_type": "execute_result",
          "data": {
            "text/plain": [
              "120"
            ]
          },
          "metadata": {},
          "execution_count": 8
        }
      ]
    },
    {
      "cell_type": "code",
      "source": [
        "def facto(n):\n",
        "  if n <0:\n",
        "    return n\n",
        "  elif n == 0 or n == 1:\n",
        "    return 1\n",
        "  else:\n",
        "    fact = 1\n",
        "    while (n>1):\n",
        "      fact = fact * n\n",
        "      n -= 1\n",
        "    return fact\n",
        "    \n",
        "facto(5)"
      ],
      "metadata": {
        "colab": {
          "base_uri": "https://localhost:8080/"
        },
        "id": "Jjy72cz2NCwE",
        "outputId": "33993316-6d9f-4a09-da5b-14cd7a122011"
      },
      "execution_count": null,
      "outputs": [
        {
          "output_type": "execute_result",
          "data": {
            "text/plain": [
              "120"
            ]
          },
          "metadata": {},
          "execution_count": 10
        }
      ]
    },
    {
      "cell_type": "markdown",
      "source": [
        "9) Simple Interest:"
      ],
      "metadata": {
        "id": "mrQemeRvOqJe"
      }
    },
    {
      "cell_type": "code",
      "source": [
        "def cal_SI(p,t,r):\n",
        "  print(\"Principal Amount is : {} \\n Time is : {} \\t Rate is : {} \\n\\nSimple Interest is : {}\".format(p,t,r,(p*t*r)/100) )\n",
        "\n",
        "cal_SI(8,6,8)"
      ],
      "metadata": {
        "id": "7E7HGwzoOpsn",
        "colab": {
          "base_uri": "https://localhost:8080/"
        },
        "outputId": "3665040a-bf1a-4c8a-8b3e-5af17f318afb"
      },
      "execution_count": 5,
      "outputs": [
        {
          "output_type": "stream",
          "name": "stdout",
          "text": [
            "Principal Amount is : 8 \n",
            " Time is : 6 \t Rate is : 8 \n",
            "\n",
            "Simple Interest is : 3.84\n"
          ]
        }
      ]
    },
    {
      "cell_type": "markdown",
      "source": [
        "10) Compound Interest:"
      ],
      "metadata": {
        "id": "fpNKx51QdKw6"
      }
    },
    {
      "cell_type": "markdown",
      "source": [
        "\n",
        "```\n",
        "A = P(1 + R/100) t \n",
        "Compound Interest = A - P \n",
        "Where, \n",
        "A is amount \n",
        "P is the principal amount \n",
        "R is the rate and \n",
        "T is the time span\n",
        "```\n",
        "\n"
      ],
      "metadata": {
        "id": "QS0ooNgHe1TP"
      }
    },
    {
      "cell_type": "code",
      "source": [
        "def cal_CI(p,t,r):\n",
        "    \n",
        "    a = p*( pow( ( 1 + r / 100 ) , t ))\n",
        "    # or a=p*(1+(r/100))**t \n",
        "\n",
        "    ci = a - p \n",
        "    print(\"Principal Amount is : {} \\n Time is : {} \\t Rate is : {} \\n\\nCompound Interest is : {}\".format(p,t,r,ci) )\n",
        "cal_CI(1200,2,5.4)"
      ],
      "metadata": {
        "colab": {
          "base_uri": "https://localhost:8080/"
        },
        "id": "4m07whlNecLR",
        "outputId": "1c438ea6-dea6-4b01-ea40-370036cd5518"
      },
      "execution_count": 15,
      "outputs": [
        {
          "output_type": "stream",
          "name": "stdout",
          "text": [
            "Principal Amount is : 1200 \n",
            " Time is : 2 \t Rate is : 5.4 \n",
            "\n",
            "Compound Interest is : 133.0992000000001\n"
          ]
        }
      ]
    },
    {
      "cell_type": "markdown",
      "source": [
        "11) Armstrong Number:"
      ],
      "metadata": {
        "id": "2706K5z1g_42"
      }
    },
    {
      "cell_type": "markdown",
      "source": [
        "\n",
        "\n",
        "```\n",
        "Given a number x, determine whether the given number is Armstrong number or not. A positive integer of n digits is called an Armstrong number of order n (order is number of digits) if.\n",
        "\n",
        "abcd... = pow(a,n) + pow(b,n) + pow(c,n) + pow(d,n) + .... \n",
        "Example:\n",
        "\n",
        "Input : 153\n",
        "Output : Yes\n",
        "153 is an Armstrong number.\n",
        "1*1*1 + 5*5*5 + 3*3*3 = 153\n",
        "\n",
        "Input : 120\n",
        "Output : No\n",
        "120 is not a Armstrong number.\n",
        "1*1*1 + 2*2*2 + 0*0*0 = 9\n",
        "\n",
        "Input : 1253\n",
        "Output : No\n",
        "1253 is not a Armstrong Number\n",
        "1*1*1*1 + 2*2*2*2 + 5*5*5*5 + 3*3*3*3 = 723\n",
        "\n",
        "Input : 1634\n",
        "Output : Yes\n",
        "1*1*1*1 + 6*6*6*6 + 3*3*3*3 + 4*4*4*4 = 1634\n",
        "```\n",
        "\n"
      ],
      "metadata": {
        "id": "rg5mIzbhh3sz"
      }
    },
    {
      "cell_type": "code",
      "source": [
        "def power(x,y):\n",
        "  if y == 0:\n",
        "    return 1\n",
        "  elif y%2 == 0:\n",
        "    return power(x,y//2)*power(x,y//2)\n",
        "  else:\n",
        "    return x * power(x,y//2)*power(x,y//2)\n",
        "\n",
        "def order(x):\n",
        "  n  = 0\n",
        "  while (x!=0):\n",
        "    n+=1\n",
        "    x//=10\n",
        "  return n\n",
        "\n",
        "def isArmstrong(x):\n",
        "  n = order(x)\n",
        "  temp = x\n",
        "  sum = 0\n",
        "  while temp!=0 :\n",
        "    r = temp%10\n",
        "    sum = sum + power(r,n)\n",
        "    temp//=10\n",
        "  return (sum == x)\n",
        "\n",
        "isArmstrong(1634)"
      ],
      "metadata": {
        "colab": {
          "base_uri": "https://localhost:8080/"
        },
        "id": "x7a_szM7hE6k",
        "outputId": "24eac2f7-c39e-4281-9fa8-ff0264c4ab1b"
      },
      "execution_count": 22,
      "outputs": [
        {
          "output_type": "execute_result",
          "data": {
            "text/plain": [
              "True"
            ]
          },
          "metadata": {},
          "execution_count": 22
        }
      ]
    },
    {
      "cell_type": "markdown",
      "source": [
        "12) Area of a circle \n",
        "\n",
        "Area = pi * (r**2)\n",
        "where r is radius of circle "
      ],
      "metadata": {
        "id": "cSLIhwaplCLT"
      }
    },
    {
      "cell_type": "code",
      "source": [
        "def findArea(r):\n",
        "    PI = 3.142\n",
        "    return PI * (r*r);\n",
        "  \n",
        "# Driver method\n",
        "print(\"Area is %.6f\" % findArea(5));"
      ],
      "metadata": {
        "colab": {
          "base_uri": "https://localhost:8080/"
        },
        "id": "jL_om_eHlv5b",
        "outputId": "13ffce75-337a-470b-e6df-b683d6ed5a26"
      },
      "execution_count": 23,
      "outputs": [
        {
          "output_type": "stream",
          "name": "stdout",
          "text": [
            "Area is 78.550000\n"
          ]
        }
      ]
    }
  ]
}