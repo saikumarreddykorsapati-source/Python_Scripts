{
  "nbformat": 4,
  "nbformat_minor": 0,
  "metadata": {
    "colab": {
      "name": "Top 100 Codes",
      "provenance": [],
      "authorship_tag": "ABX9TyNsBkBQtNz8y0+d8b/HGPt/",
      "include_colab_link": true
    },
    "kernelspec": {
      "name": "python3",
      "display_name": "Python 3"
    },
    "language_info": {
      "name": "python"
    }
  },
  "cells": [
    {
      "cell_type": "markdown",
      "metadata": {
        "id": "view-in-github",
        "colab_type": "text"
      },
      "source": [
        "<a href=\"https://colab.research.google.com/github/saikumarreddykorsapati-source/Python_Scripts/blob/main/Top_100_Codes.ipynb\" target=\"_parent\"><img src=\"https://colab.research.google.com/assets/colab-badge.svg\" alt=\"Open In Colab\"/></a>"
      ]
    },
    {
      "cell_type": "markdown",
      "source": [
        "**Ascii Table :** [Click here to redirect](https://prepinsta.com/ascii-table/)"
      ],
      "metadata": {
        "id": "NyEJVoJM33tx"
      }
    },
    {
      "cell_type": "markdown",
      "source": [
        "1) Positive or Negative number:"
      ],
      "metadata": {
        "id": "E0Jtqkwk3hDd"
      }
    },
    {
      "cell_type": "code",
      "execution_count": 12,
      "metadata": {
        "colab": {
          "base_uri": "https://localhost:8080/"
        },
        "id": "4Tb4QcIe3YYw",
        "outputId": "736470e3-3d57-4881-989b-49e938127948"
      },
      "outputs": [
        {
          "output_type": "stream",
          "name": "stdout",
          "text": [
            "Positive\n"
          ]
        }
      ],
      "source": [
        "n = 0\n",
        "print(\"Positive\" if n >= 0 else \"Negative\")"
      ]
    },
    {
      "cell_type": "markdown",
      "source": [
        "2) Even or Odd number:"
      ],
      "metadata": {
        "id": "wR2GqnnV5lWd"
      }
    },
    {
      "cell_type": "code",
      "source": [
        "n = 20\n",
        "print(\"Even\" if n%2==0 else \"Odd\")"
      ],
      "metadata": {
        "colab": {
          "base_uri": "https://localhost:8080/"
        },
        "id": "i2MwffYI5koh",
        "outputId": "500a3423-eacb-4976-f91a-4b741623747e"
      },
      "execution_count": 4,
      "outputs": [
        {
          "output_type": "stream",
          "name": "stdout",
          "text": [
            "Even\n"
          ]
        }
      ]
    },
    {
      "cell_type": "markdown",
      "source": [
        "3) Sum of First N Natural numbers: "
      ],
      "metadata": {
        "id": "REeXjBuL6DVl"
      }
    },
    {
      "cell_type": "code",
      "source": [
        "n=5\n",
        "print(int(n*(n+1)/2))"
      ],
      "metadata": {
        "colab": {
          "base_uri": "https://localhost:8080/"
        },
        "id": "xd-q3Jmg6KHd",
        "outputId": "94e1fa9e-d034-4db6-d4ce-9751f8a14c94"
      },
      "execution_count": 6,
      "outputs": [
        {
          "output_type": "stream",
          "name": "stdout",
          "text": [
            "15\n"
          ]
        }
      ]
    },
    {
      "cell_type": "markdown",
      "source": [
        "4) Sum of N natural numbers:"
      ],
      "metadata": {
        "id": "DAv92axS7AAc"
      }
    },
    {
      "cell_type": "code",
      "source": [
        "def recurSum(n):\n",
        "  if n == 0:\n",
        "    return n\n",
        "  else:\n",
        "    return n + recurSum(n-1)\n",
        "\n",
        "num = 6\n",
        "recurSum(num)"
      ],
      "metadata": {
        "colab": {
          "base_uri": "https://localhost:8080/"
        },
        "id": "Z-T0g5yq7SS9",
        "outputId": "e16f5aa0-9a1e-4c25-bd38-60f29ea2e81e"
      },
      "execution_count": 8,
      "outputs": [
        {
          "output_type": "execute_result",
          "data": {
            "text/plain": [
              "21"
            ]
          },
          "metadata": {},
          "execution_count": 8
        }
      ]
    },
    {
      "cell_type": "markdown",
      "source": [
        "5) Sum of numbers in a given range:"
      ],
      "metadata": {
        "id": "uORRZdaz8PV5"
      }
    },
    {
      "cell_type": "code",
      "source": [
        "def recurSum(sum, n1, n2):\n",
        "  if n1>n2:\n",
        "    return sum\n",
        "  return n1 + recurSum(sum, n1+1, n2)\n",
        "\n",
        "num1, num2, sum = 3, 6, 0\n",
        "recurSum(sum, num1, num2)"
      ],
      "metadata": {
        "colab": {
          "base_uri": "https://localhost:8080/"
        },
        "id": "K1htfrQJ8VAk",
        "outputId": "11ced38d-9be9-4a20-fbe3-d30c40723a48"
      },
      "execution_count": 9,
      "outputs": [
        {
          "output_type": "execute_result",
          "data": {
            "text/plain": [
              "18"
            ]
          },
          "metadata": {},
          "execution_count": 9
        }
      ]
    }
  ]
}